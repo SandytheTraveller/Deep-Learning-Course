{
  "nbformat": 4,
  "nbformat_minor": 0,
  "metadata": {
    "colab": {
      "provenance": [],
      "gpuType": "T4",
      "authorship_tag": "ABX9TyNQuW0XYCLyBCdVrWqn17gC"
    },
    "kernelspec": {
      "name": "python3",
      "display_name": "Python 3"
    },
    "language_info": {
      "name": "python"
    },
    "accelerator": "GPU"
  },
  "cells": [
    {
      "cell_type": "markdown",
      "source": [
        "# Lecture 1\n",
        "\n",
        "- To utilize free GPU we have to follow Runtime -> Change runtime type -> T4 GPU (very weak, but the only free GPU). This will restart the session.\n",
        "- Verifying the GPU is assigned correctly."
      ],
      "metadata": {
        "id": "SsongKAP44EB"
      }
    },
    {
      "cell_type": "code",
      "execution_count": null,
      "metadata": {
        "colab": {
          "base_uri": "https://localhost:8080/"
        },
        "id": "rBBXx0e64S_G",
        "outputId": "caf0c6f2-3a9c-436f-8de2-f73d82a93a5b"
      },
      "outputs": [
        {
          "output_type": "execute_result",
          "data": {
            "text/plain": [
              "True"
            ]
          },
          "metadata": {},
          "execution_count": 1
        }
      ],
      "source": [
        "import torch\n",
        "torch.cuda.is_available() # the output is true if we run with GPU"
      ]
    },
    {
      "cell_type": "markdown",
      "source": [
        "## Mount the personal drive\n",
        "\n",
        "- One advantage: connection with other google services such as Google Drive is simple.\n",
        "- By mounting google drive, we can read our drive data and save working files permanently\n",
        "- To mount the google drive, we need to run the following code, log in to the google account and copy the authentication code to the input box to finish the process."
      ],
      "metadata": {
        "id": "8cTHizTh6yQ8"
      }
    },
    {
      "cell_type": "code",
      "source": [
        "from google.colab import drive\n",
        "drive.mount('/content/drive')"
      ],
      "metadata": {
        "colab": {
          "base_uri": "https://localhost:8080/"
        },
        "id": "sRo9lYdk5wMr",
        "outputId": "30566d49-1676-496b-ee69-fb4bdfc162e9"
      },
      "execution_count": null,
      "outputs": [
        {
          "output_type": "stream",
          "name": "stdout",
          "text": [
            "Mounted at /content/drive\n"
          ]
        }
      ]
    },
    {
      "cell_type": "markdown",
      "source": [
        "- Each time we run it we need to authorize the access in the pop-up window"
      ],
      "metadata": {
        "id": "WXzDVWbG4d_p"
      }
    },
    {
      "cell_type": "markdown",
      "source": [
        "## Implementing the Perceptron\n",
        "\n",
        "- We create the Perceptron class.\n",
        "- We will be using accuracy score to evaluate the performance."
      ],
      "metadata": {
        "id": "7bNbo4UY7xLT"
      }
    },
    {
      "cell_type": "code",
      "source": [
        "from sklearn.metrics import accuracy_score\n",
        "import numpy as np"
      ],
      "metadata": {
        "id": "dpmObm8Z7piU"
      },
      "execution_count": null,
      "outputs": []
    },
    {
      "cell_type": "code",
      "source": [
        "class Perceptron:\n",
        "    def __init__(self, eta):\n",
        "      self.w = None # weights\n",
        "      self.b = None # bias\n",
        "      self.eta = eta # learning rate\n",
        "\n",
        "\n",
        "    # heaviside (step) activation function\n",
        "    def activation(self, z):\n",
        "      return np.heaviside(z, 1) # 1 is the value for z=0; 1 is the value we want to get for activated function\n",
        "\n",
        "\n",
        "    # training Perceptron\n",
        "    def fit(self, X, y, epochs, performance_criterion):\n",
        "      \"\"\"\n",
        "      X - training samples\n",
        "      y - target\n",
        "      epochs - number of iterations\n",
        "      performance_criterion -\n",
        "      \"\"\"\n",
        "      n_features = X.shape[1]\n",
        "\n",
        "      # initializing weights and bias\n",
        "      # self.w = np.random.randn(n_features) / np.sqrt(n_features) # small random values\n",
        "      self.w = np.zeros((n_features)) # zero vector at the begining\n",
        "      self.b = 0\n",
        "\n",
        "      # iterating until the number of epochs\n",
        "      for epoch in range(epochs):\n",
        "        z = np.dot(X, self.w) + self.b # computing the dot product and adding the bias\n",
        "        y_pred = self.activation(z) # passing through an activation function\n",
        "        print(f'Epoch: {epoch}, Accuracy: {performance_criterion(y, y_pred)}')\n",
        "\n",
        "        # updating weights and bias\n",
        "        # traversing through the entire training set\n",
        "        for i in range(len(X)): # for every training sample\n",
        "          # updating weights and bias\n",
        "          self.w = self.w + self.eta * (y[i] - y_pred[i]) * X[i]\n",
        "          self.b = self.b + self.eta * (y[i] - y_pred[i])\n",
        "\n",
        "      return self.w, self.b\n",
        "\n",
        "\n",
        "    def predict(self, X):\n",
        "      z = np.dot(X, self.w) + self.b\n",
        "      return self.activation(z)"
      ],
      "metadata": {
        "id": "ZBBzBN3i8MBe"
      },
      "execution_count": null,
      "outputs": []
    },
    {
      "cell_type": "markdown",
      "source": [
        "Now, we classify the Iris data set."
      ],
      "metadata": {
        "id": "VRBQX7SmAv_w"
      }
    },
    {
      "cell_type": "code",
      "source": [
        "from sklearn.datasets import load_iris, load_wine\n",
        "\n",
        "iris = load_iris()\n",
        "iris.feature_names"
      ],
      "metadata": {
        "colab": {
          "base_uri": "https://localhost:8080/"
        },
        "id": "jeMc-CoFBSHK",
        "outputId": "6efd1bd9-7117-467a-e9a1-66891ac04f54"
      },
      "execution_count": null,
      "outputs": [
        {
          "output_type": "execute_result",
          "data": {
            "text/plain": [
              "['sepal length (cm)',\n",
              " 'sepal width (cm)',\n",
              " 'petal length (cm)',\n",
              " 'petal width (cm)']"
            ]
          },
          "metadata": {},
          "execution_count": 5
        }
      ]
    },
    {
      "cell_type": "code",
      "source": [
        "iris.target_names"
      ],
      "metadata": {
        "colab": {
          "base_uri": "https://localhost:8080/"
        },
        "id": "VJ5H-5QqBcCd",
        "outputId": "e5518a50-dac8-4881-c80e-5ef62aba41b7"
      },
      "execution_count": null,
      "outputs": [
        {
          "output_type": "execute_result",
          "data": {
            "text/plain": [
              "array(['setosa', 'versicolor', 'virginica'], dtype='<U10')"
            ]
          },
          "metadata": {},
          "execution_count": 6
        }
      ]
    },
    {
      "cell_type": "code",
      "source": [
        "iris.data.shape"
      ],
      "metadata": {
        "colab": {
          "base_uri": "https://localhost:8080/"
        },
        "id": "OLDYUbTFBe5F",
        "outputId": "1dab3964-1ac2-4247-85cd-1b58f2586ef2"
      },
      "execution_count": null,
      "outputs": [
        {
          "output_type": "execute_result",
          "data": {
            "text/plain": [
              "(150, 4)"
            ]
          },
          "metadata": {},
          "execution_count": 8
        }
      ]
    },
    {
      "cell_type": "code",
      "source": [
        "iris.target"
      ],
      "metadata": {
        "colab": {
          "base_uri": "https://localhost:8080/"
        },
        "id": "ds_Z80RdBuqL",
        "outputId": "6caddc99-98d2-4271-ce8a-6d56b0a62fec"
      },
      "execution_count": null,
      "outputs": [
        {
          "output_type": "execute_result",
          "data": {
            "text/plain": [
              "array([0, 0, 0, 0, 0, 0, 0, 0, 0, 0, 0, 0, 0, 0, 0, 0, 0, 0, 0, 0, 0, 0,\n",
              "       0, 0, 0, 0, 0, 0, 0, 0, 0, 0, 0, 0, 0, 0, 0, 0, 0, 0, 0, 0, 0, 0,\n",
              "       0, 0, 0, 0, 0, 0, 1, 1, 1, 1, 1, 1, 1, 1, 1, 1, 1, 1, 1, 1, 1, 1,\n",
              "       1, 1, 1, 1, 1, 1, 1, 1, 1, 1, 1, 1, 1, 1, 1, 1, 1, 1, 1, 1, 1, 1,\n",
              "       1, 1, 1, 1, 1, 1, 1, 1, 1, 1, 1, 1, 2, 2, 2, 2, 2, 2, 2, 2, 2, 2,\n",
              "       2, 2, 2, 2, 2, 2, 2, 2, 2, 2, 2, 2, 2, 2, 2, 2, 2, 2, 2, 2, 2, 2,\n",
              "       2, 2, 2, 2, 2, 2, 2, 2, 2, 2, 2, 2, 2, 2, 2, 2, 2, 2])"
            ]
          },
          "metadata": {},
          "execution_count": 9
        }
      ]
    },
    {
      "cell_type": "code",
      "source": [
        "# X = iris.data # all columns\n",
        "X = iris.data[:, (0, 1)] # two features, all the rows\n",
        "y = (iris.target == 0).astype(int) # we classify setosa against all; setosa was labeled with 0, so we compare this value with others\n",
        "y"
      ],
      "metadata": {
        "colab": {
          "base_uri": "https://localhost:8080/"
        },
        "id": "onPFIWQTByUc",
        "outputId": "76b6fa43-6e5f-4bf0-ff35-46c50cb8ca82"
      },
      "execution_count": null,
      "outputs": [
        {
          "output_type": "execute_result",
          "data": {
            "text/plain": [
              "array([1, 1, 1, 1, 1, 1, 1, 1, 1, 1, 1, 1, 1, 1, 1, 1, 1, 1, 1, 1, 1, 1,\n",
              "       1, 1, 1, 1, 1, 1, 1, 1, 1, 1, 1, 1, 1, 1, 1, 1, 1, 1, 1, 1, 1, 1,\n",
              "       1, 1, 1, 1, 1, 1, 0, 0, 0, 0, 0, 0, 0, 0, 0, 0, 0, 0, 0, 0, 0, 0,\n",
              "       0, 0, 0, 0, 0, 0, 0, 0, 0, 0, 0, 0, 0, 0, 0, 0, 0, 0, 0, 0, 0, 0,\n",
              "       0, 0, 0, 0, 0, 0, 0, 0, 0, 0, 0, 0, 0, 0, 0, 0, 0, 0, 0, 0, 0, 0,\n",
              "       0, 0, 0, 0, 0, 0, 0, 0, 0, 0, 0, 0, 0, 0, 0, 0, 0, 0, 0, 0, 0, 0,\n",
              "       0, 0, 0, 0, 0, 0, 0, 0, 0, 0, 0, 0, 0, 0, 0, 0, 0, 0])"
            ]
          },
          "metadata": {},
          "execution_count": 10
        }
      ]
    },
    {
      "cell_type": "markdown",
      "source": [
        "Split data in train and test set and normalize."
      ],
      "metadata": {
        "id": "u7frHxUfCb1F"
      }
    },
    {
      "cell_type": "code",
      "source": [
        "from sklearn.model_selection import train_test_split\n",
        "from sklearn.preprocessing import StandardScaler\n",
        "\n",
        "scaler = StandardScaler()\n",
        "# we split into training and test sets because we would like to estimate the accuracy/error of our model on unseen data;\n",
        "# it's generalization capabilities\n",
        "X_train, X_test, y_train, y_test = train_test_split(X, y, test_size=0.1,\n",
        "                                                    shuffle=True,\n",
        "                                                    stratify=y)\n",
        "X_train = scaler.fit_transform(X_train)\n",
        "X_test = scaler.transform(X_test)"
      ],
      "metadata": {
        "id": "gG9CegcrCbkX"
      },
      "execution_count": null,
      "outputs": []
    },
    {
      "cell_type": "markdown",
      "source": [
        "Validation test is the portion of the training set. The aim of the validation is to get more stable performance.\n",
        "Validation idea: if we have some hyperparameters (here it's eta), we use validation to pick value for them. We must tune hyperparameters and we can do it by using cross-validation."
      ],
      "metadata": {
        "id": "P5mbCK50EWpm"
      }
    },
    {
      "cell_type": "markdown",
      "source": [
        "Fit the Perceptron on the training data."
      ],
      "metadata": {
        "id": "zamJZcZLC5LR"
      }
    },
    {
      "cell_type": "code",
      "source": [
        "model = Perceptron(0.01)\n",
        "print(f'Model.w: {model.w}, model.b: {model.b}')\n",
        "\n",
        "model.fit(X_train, y_train, epochs=10, performance_criterion=accuracy_score)\n",
        "print(f'Model.w: {model.w}, model.b: {model.b}')"
      ],
      "metadata": {
        "colab": {
          "base_uri": "https://localhost:8080/"
        },
        "id": "GLNyQCI-C8dJ",
        "outputId": "946a3a83-012f-4288-c46c-574d29a54f9e"
      },
      "execution_count": null,
      "outputs": [
        {
          "output_type": "stream",
          "name": "stdout",
          "text": [
            "Model.w: None, model.b: None\n",
            "Epoch: 0, Accuracy: 0.3333333333333333\n",
            "Epoch: 1, Accuracy: 0.7851851851851852\n",
            "Epoch: 2, Accuracy: 1.0\n",
            "Epoch: 3, Accuracy: 1.0\n",
            "Epoch: 4, Accuracy: 1.0\n",
            "Epoch: 5, Accuracy: 1.0\n",
            "Epoch: 6, Accuracy: 1.0\n",
            "Epoch: 7, Accuracy: 1.0\n",
            "Epoch: 8, Accuracy: 1.0\n",
            "Epoch: 9, Accuracy: 1.0\n",
            "Model.w: [-0.76170168  0.55543045], model.b: -0.6100000000000003\n"
          ]
        }
      ]
    },
    {
      "cell_type": "code",
      "source": [
        "y_train_predicted = model.predict(X_train)\n",
        "y_test_predicted = model.predict(X_test)"
      ],
      "metadata": {
        "id": "NOfFoPWADfWH"
      },
      "execution_count": null,
      "outputs": []
    },
    {
      "cell_type": "markdown",
      "source": [
        "We compute the final training and testing accuracies."
      ],
      "metadata": {
        "id": "3TAnJMOGGB0z"
      }
    },
    {
      "cell_type": "code",
      "source": [
        "# train accuracy\n",
        "print(f'Train accuracy: {accuracy_score(y_train, y_train_predicted)}')\n",
        "\n",
        "# test accuracy\n",
        "print(f'Test accuracy: {accuracy_score(y_test, y_test_predicted)}')"
      ],
      "metadata": {
        "colab": {
          "base_uri": "https://localhost:8080/"
        },
        "id": "s_dx4IhmFIuf",
        "outputId": "0397edf0-ba79-4c61-8c76-d3229ba87f7a"
      },
      "execution_count": null,
      "outputs": [
        {
          "output_type": "stream",
          "name": "stdout",
          "text": [
            "Train accuracy: 1.0\n",
            "Test accuracy: 0.9333333333333333\n"
          ]
        }
      ]
    },
    {
      "cell_type": "markdown",
      "source": [
        "## Better way to estimate the generalization error: **Cross-validation**\n",
        "\n"
      ],
      "metadata": {
        "id": "Z558kFxBGWRU"
      }
    },
    {
      "cell_type": "code",
      "source": [
        "from sklearn.model_selection import cross_val_score, cross_val_predict, train_test_split, StratifiedKFold\n",
        "\n",
        "kf = StratifiedKFold(n_splits=5) # split set in five subsets\n",
        "acc = []\n",
        "fold = 1\n",
        "\n",
        "for train_idx, test_idx in kf.split(X, y): # we extract each time train and test sets\n",
        "    print(f'fold: {fold}')\n",
        "    X_train, y_train = X[train_idx, :], y[train_idx]\n",
        "    model = Perceptron(0.01)\n",
        "    X_train = scaler.fit_transform(X_train)\n",
        "    model.fit(X_train, y_train, epochs=10, performance_criterion=accuracy_score)\n",
        "\n",
        "    # print(f'\\tmodel.w: {model.w}')\n",
        "    X_test, y_test = X[test_idx, :], y[test_idx]\n",
        "    X_test = scaler.transform(X_test)\n",
        "    y_test_predicted = model.predict(X_test)\n",
        "\n",
        "    accuracy = accuracy_score(y_test, y_test_predicted)\n",
        "    print(f'test accuracy fold: {accuracy}\\n')\n",
        "    acc.append(accuracy)\n",
        "    fold += 1\n",
        "\n",
        "print(f'Mean accuracy: {np.mean(acc)}, std accuracy: {np.std(acc)}')"
      ],
      "metadata": {
        "colab": {
          "base_uri": "https://localhost:8080/"
        },
        "id": "rfOXXkBnGle7",
        "outputId": "26d414da-4256-4c4b-b77c-445f97029a9b"
      },
      "execution_count": null,
      "outputs": [
        {
          "output_type": "stream",
          "name": "stdout",
          "text": [
            "fold: 1\n",
            "Epoch: 0, Accuracy: 0.3333333333333333\n",
            "Epoch: 1, Accuracy: 0.7583333333333333\n",
            "Epoch: 2, Accuracy: 0.9916666666666667\n",
            "Epoch: 3, Accuracy: 0.9916666666666667\n",
            "Epoch: 4, Accuracy: 0.9916666666666667\n",
            "Epoch: 5, Accuracy: 0.9916666666666667\n",
            "Epoch: 6, Accuracy: 1.0\n",
            "Epoch: 7, Accuracy: 1.0\n",
            "Epoch: 8, Accuracy: 1.0\n",
            "Epoch: 9, Accuracy: 1.0\n",
            "test accuracy fold: 1.0\n",
            "\n",
            "fold: 2\n",
            "Epoch: 0, Accuracy: 0.3333333333333333\n",
            "Epoch: 1, Accuracy: 0.7583333333333333\n",
            "Epoch: 2, Accuracy: 0.9916666666666667\n",
            "Epoch: 3, Accuracy: 0.9916666666666667\n",
            "Epoch: 4, Accuracy: 0.9916666666666667\n",
            "Epoch: 5, Accuracy: 0.9916666666666667\n",
            "Epoch: 6, Accuracy: 1.0\n",
            "Epoch: 7, Accuracy: 1.0\n",
            "Epoch: 8, Accuracy: 1.0\n",
            "Epoch: 9, Accuracy: 1.0\n",
            "test accuracy fold: 1.0\n",
            "\n",
            "fold: 3\n",
            "Epoch: 0, Accuracy: 0.3333333333333333\n",
            "Epoch: 1, Accuracy: 0.7666666666666667\n",
            "Epoch: 2, Accuracy: 0.9916666666666667\n",
            "Epoch: 3, Accuracy: 0.9916666666666667\n",
            "Epoch: 4, Accuracy: 1.0\n",
            "Epoch: 5, Accuracy: 1.0\n",
            "Epoch: 6, Accuracy: 1.0\n",
            "Epoch: 7, Accuracy: 1.0\n",
            "Epoch: 8, Accuracy: 1.0\n",
            "Epoch: 9, Accuracy: 1.0\n",
            "test accuracy fold: 1.0\n",
            "\n",
            "fold: 4\n",
            "Epoch: 0, Accuracy: 0.3333333333333333\n",
            "Epoch: 1, Accuracy: 0.7583333333333333\n",
            "Epoch: 2, Accuracy: 0.9916666666666667\n",
            "Epoch: 3, Accuracy: 0.9916666666666667\n",
            "Epoch: 4, Accuracy: 0.9916666666666667\n",
            "Epoch: 5, Accuracy: 0.9916666666666667\n",
            "Epoch: 6, Accuracy: 0.9916666666666667\n",
            "Epoch: 7, Accuracy: 1.0\n",
            "Epoch: 8, Accuracy: 1.0\n",
            "Epoch: 9, Accuracy: 1.0\n",
            "test accuracy fold: 1.0\n",
            "\n",
            "fold: 5\n",
            "Epoch: 0, Accuracy: 0.3333333333333333\n",
            "Epoch: 1, Accuracy: 0.7583333333333333\n",
            "Epoch: 2, Accuracy: 1.0\n",
            "Epoch: 3, Accuracy: 1.0\n",
            "Epoch: 4, Accuracy: 1.0\n",
            "Epoch: 5, Accuracy: 1.0\n",
            "Epoch: 6, Accuracy: 1.0\n",
            "Epoch: 7, Accuracy: 1.0\n",
            "Epoch: 8, Accuracy: 1.0\n",
            "Epoch: 9, Accuracy: 1.0\n",
            "test accuracy fold: 0.9666666666666667\n",
            "\n",
            "Mean accuracy: 0.9933333333333334, std accuracy: 0.01333333333333333\n"
          ]
        }
      ]
    },
    {
      "cell_type": "markdown",
      "source": [
        "## Exercise\n",
        "Load the wine dataset and train and evaluate a Perceptron in CV setting."
      ],
      "metadata": {
        "id": "hSZDwikgIQwI"
      }
    },
    {
      "cell_type": "code",
      "source": [
        "wine = load_wine()\n",
        "\n",
        "print(f'Wine dimensions: {wine.data.shape}')\n",
        "print(f'Feature names: {wine.feature_names}')\n",
        "print(f'Targets: {wine.target_names}')\n",
        "print(f'Target array: {wine.target}')"
      ],
      "metadata": {
        "colab": {
          "base_uri": "https://localhost:8080/"
        },
        "id": "WDEUy5FjIQKh",
        "outputId": "b52b9896-574a-4c44-db3c-f358b37c6cb1"
      },
      "execution_count": null,
      "outputs": [
        {
          "output_type": "stream",
          "name": "stdout",
          "text": [
            "Wine dimensions: (178, 13)\n",
            "Feature names: ['alcohol', 'malic_acid', 'ash', 'alcalinity_of_ash', 'magnesium', 'total_phenols', 'flavanoids', 'nonflavanoid_phenols', 'proanthocyanins', 'color_intensity', 'hue', 'od280/od315_of_diluted_wines', 'proline']\n",
            "Targets: ['class_0' 'class_1' 'class_2']\n",
            "Target array: [0 0 0 0 0 0 0 0 0 0 0 0 0 0 0 0 0 0 0 0 0 0 0 0 0 0 0 0 0 0 0 0 0 0 0 0 0\n",
            " 0 0 0 0 0 0 0 0 0 0 0 0 0 0 0 0 0 0 0 0 0 0 1 1 1 1 1 1 1 1 1 1 1 1 1 1 1\n",
            " 1 1 1 1 1 1 1 1 1 1 1 1 1 1 1 1 1 1 1 1 1 1 1 1 1 1 1 1 1 1 1 1 1 1 1 1 1\n",
            " 1 1 1 1 1 1 1 1 1 1 1 1 1 1 1 1 1 1 1 2 2 2 2 2 2 2 2 2 2 2 2 2 2 2 2 2 2\n",
            " 2 2 2 2 2 2 2 2 2 2 2 2 2 2 2 2 2 2 2 2 2 2 2 2 2 2 2 2 2 2]\n"
          ]
        }
      ]
    },
    {
      "cell_type": "markdown",
      "source": [
        "Number of instances: 178\n",
        "Number of attributes: 13\n",
        "\n",
        "We predict the first class against the other ones."
      ],
      "metadata": {
        "id": "okp6oBfbI8Wq"
      }
    },
    {
      "cell_type": "code",
      "source": [
        "X = wine.data[:,] # two features\n",
        "y = (wine.target == 1).astype(int) # we classify class_1 against all; class_1 was labeled with 1, so we compare this value with others\n",
        "y"
      ],
      "metadata": {
        "colab": {
          "base_uri": "https://localhost:8080/"
        },
        "id": "yG4qbsYXJGSX",
        "outputId": "afa3f83c-e5a1-4ad1-ff51-2495c80ca95e"
      },
      "execution_count": null,
      "outputs": [
        {
          "output_type": "execute_result",
          "data": {
            "text/plain": [
              "array([0, 0, 0, 0, 0, 0, 0, 0, 0, 0, 0, 0, 0, 0, 0, 0, 0, 0, 0, 0, 0, 0,\n",
              "       0, 0, 0, 0, 0, 0, 0, 0, 0, 0, 0, 0, 0, 0, 0, 0, 0, 0, 0, 0, 0, 0,\n",
              "       0, 0, 0, 0, 0, 0, 0, 0, 0, 0, 0, 0, 0, 0, 0, 1, 1, 1, 1, 1, 1, 1,\n",
              "       1, 1, 1, 1, 1, 1, 1, 1, 1, 1, 1, 1, 1, 1, 1, 1, 1, 1, 1, 1, 1, 1,\n",
              "       1, 1, 1, 1, 1, 1, 1, 1, 1, 1, 1, 1, 1, 1, 1, 1, 1, 1, 1, 1, 1, 1,\n",
              "       1, 1, 1, 1, 1, 1, 1, 1, 1, 1, 1, 1, 1, 1, 1, 1, 1, 1, 1, 1, 0, 0,\n",
              "       0, 0, 0, 0, 0, 0, 0, 0, 0, 0, 0, 0, 0, 0, 0, 0, 0, 0, 0, 0, 0, 0,\n",
              "       0, 0, 0, 0, 0, 0, 0, 0, 0, 0, 0, 0, 0, 0, 0, 0, 0, 0, 0, 0, 0, 0,\n",
              "       0, 0])"
            ]
          },
          "metadata": {},
          "execution_count": 21
        }
      ]
    },
    {
      "cell_type": "code",
      "source": [
        "scaler = StandardScaler()\n",
        "X_train, X_test, y_train, y_test = train_test_split(X, y, test_size=0.2,\n",
        "                                                    shuffle=True,\n",
        "                                                    stratify=y)\n",
        "X_train = scaler.fit_transform(X_train)\n",
        "X_test = scaler.transform(X_test)"
      ],
      "metadata": {
        "id": "rkTYnPuyKGyf"
      },
      "execution_count": null,
      "outputs": []
    },
    {
      "cell_type": "code",
      "source": [
        "model = Perceptron(0.005)\n",
        "print(f'Model.w: {model.w}, model.b: {model.b}')\n",
        "\n",
        "model.fit(X_train, y_train, epochs=10, performance_criterion=accuracy_score)\n",
        "print(f'Model.w: {model.w}, model.b: {model.b}')"
      ],
      "metadata": {
        "colab": {
          "base_uri": "https://localhost:8080/"
        },
        "id": "IC9Skb0VKPf_",
        "outputId": "7903a511-21fc-426d-867d-6a1836019e57"
      },
      "execution_count": null,
      "outputs": [
        {
          "output_type": "stream",
          "name": "stdout",
          "text": [
            "Model.w: None, model.b: None\n",
            "Epoch: 0, Accuracy: 0.4014084507042254\n",
            "Epoch: 1, Accuracy: 0.9436619718309859\n",
            "Epoch: 2, Accuracy: 0.9647887323943662\n",
            "Epoch: 3, Accuracy: 0.9788732394366197\n",
            "Epoch: 4, Accuracy: 0.9859154929577465\n",
            "Epoch: 5, Accuracy: 0.9859154929577465\n",
            "Epoch: 6, Accuracy: 0.9788732394366197\n",
            "Epoch: 7, Accuracy: 0.9788732394366197\n",
            "Epoch: 8, Accuracy: 0.9859154929577465\n",
            "Epoch: 9, Accuracy: 1.0\n",
            "Model.w: [-0.25502967 -0.07808429 -0.13332235  0.11805741 -0.01275768 -0.01772074\n",
            "  0.00882843  0.08629269 -0.0142672  -0.30909354  0.14888763  0.03525025\n",
            " -0.24282957], model.b: -0.31500000000000017\n"
          ]
        }
      ]
    },
    {
      "cell_type": "code",
      "source": [
        "kf = StratifiedKFold(n_splits=5) # split set in five subsets\n",
        "acc = []\n",
        "learning_rates = [0.001, 0.01, 0.1]\n",
        "\n",
        "for rate in learning_rates:\n",
        "    fold = 1\n",
        "    print(f'Cross-validation with Learning rate = {rate}')\n",
        "    for train_idx, test_idx in kf.split(X, y): # we extract each time train and test sets\n",
        "        print(f'fold: {fold}')\n",
        "        X_train, y_train = X[train_idx, :], y[train_idx]\n",
        "        model = Perceptron(rate)\n",
        "        X_train = scaler.fit_transform(X_train)\n",
        "        model.fit(X_train, y_train, epochs=10, performance_criterion=accuracy_score)\n",
        "\n",
        "        # print(f'\\tmodel.w: {model.w}')\n",
        "        X_test, y_test = X[test_idx, :], y[test_idx]\n",
        "        X_test = scaler.transform(X_test)\n",
        "        y_test_predicted = model.predict(X_test)\n",
        "\n",
        "        accuracy = accuracy_score(y_test, y_test_predicted)\n",
        "        print(f'test accuracy fold: {accuracy}\\n')\n",
        "        acc.append(accuracy)\n",
        "        fold += 1\n",
        "\n",
        "print(f'Mean accuracy: {np.mean(acc)}, std accuracy: {np.std(acc)}')"
      ],
      "metadata": {
        "colab": {
          "base_uri": "https://localhost:8080/"
        },
        "id": "2pKP-6bHKWCS",
        "outputId": "8879acdd-8d7a-49f7-dd97-5b6135e4e0d4"
      },
      "execution_count": null,
      "outputs": [
        {
          "output_type": "stream",
          "name": "stdout",
          "text": [
            "Cross-validation with Learning rate = 0.001\n",
            "fold: 1\n",
            "Epoch: 0, Accuracy: 0.4014084507042254\n",
            "Epoch: 1, Accuracy: 0.9577464788732394\n",
            "Epoch: 2, Accuracy: 0.9859154929577465\n",
            "Epoch: 3, Accuracy: 0.9788732394366197\n",
            "Epoch: 4, Accuracy: 0.9859154929577465\n",
            "Epoch: 5, Accuracy: 0.971830985915493\n",
            "Epoch: 6, Accuracy: 0.9859154929577465\n",
            "Epoch: 7, Accuracy: 0.9788732394366197\n",
            "Epoch: 8, Accuracy: 0.9859154929577465\n",
            "Epoch: 9, Accuracy: 0.9929577464788732\n",
            "test accuracy fold: 0.9166666666666666\n",
            "\n",
            "fold: 2\n",
            "Epoch: 0, Accuracy: 0.4014084507042254\n",
            "Epoch: 1, Accuracy: 0.9507042253521126\n",
            "Epoch: 2, Accuracy: 0.971830985915493\n",
            "Epoch: 3, Accuracy: 0.9859154929577465\n",
            "Epoch: 4, Accuracy: 0.9859154929577465\n",
            "Epoch: 5, Accuracy: 0.9929577464788732\n",
            "Epoch: 6, Accuracy: 0.9929577464788732\n",
            "Epoch: 7, Accuracy: 0.9859154929577465\n",
            "Epoch: 8, Accuracy: 1.0\n",
            "Epoch: 9, Accuracy: 1.0\n",
            "test accuracy fold: 0.9444444444444444\n",
            "\n",
            "fold: 3\n",
            "Epoch: 0, Accuracy: 0.39436619718309857\n",
            "Epoch: 1, Accuracy: 0.9225352112676056\n",
            "Epoch: 2, Accuracy: 0.9788732394366197\n",
            "Epoch: 3, Accuracy: 0.9788732394366197\n",
            "Epoch: 4, Accuracy: 0.9788732394366197\n",
            "Epoch: 5, Accuracy: 0.9859154929577465\n",
            "Epoch: 6, Accuracy: 0.9859154929577465\n",
            "Epoch: 7, Accuracy: 0.9859154929577465\n",
            "Epoch: 8, Accuracy: 0.9859154929577465\n",
            "Epoch: 9, Accuracy: 1.0\n",
            "test accuracy fold: 0.9444444444444444\n",
            "\n",
            "fold: 4\n",
            "Epoch: 0, Accuracy: 0.3986013986013986\n",
            "Epoch: 1, Accuracy: 0.9300699300699301\n",
            "Epoch: 2, Accuracy: 0.972027972027972\n",
            "Epoch: 3, Accuracy: 0.986013986013986\n",
            "Epoch: 4, Accuracy: 0.9790209790209791\n",
            "Epoch: 5, Accuracy: 0.9790209790209791\n",
            "Epoch: 6, Accuracy: 0.993006993006993\n",
            "Epoch: 7, Accuracy: 1.0\n",
            "Epoch: 8, Accuracy: 1.0\n",
            "Epoch: 9, Accuracy: 1.0\n",
            "test accuracy fold: 0.9428571428571428\n",
            "\n",
            "fold: 5\n",
            "Epoch: 0, Accuracy: 0.3986013986013986\n",
            "Epoch: 1, Accuracy: 0.951048951048951\n",
            "Epoch: 2, Accuracy: 0.972027972027972\n",
            "Epoch: 3, Accuracy: 0.986013986013986\n",
            "Epoch: 4, Accuracy: 0.972027972027972\n",
            "Epoch: 5, Accuracy: 0.986013986013986\n",
            "Epoch: 6, Accuracy: 0.986013986013986\n",
            "Epoch: 7, Accuracy: 0.9790209790209791\n",
            "Epoch: 8, Accuracy: 0.986013986013986\n",
            "Epoch: 9, Accuracy: 0.993006993006993\n",
            "test accuracy fold: 0.9428571428571428\n",
            "\n",
            "Cross-validation with Learning rate = 0.01\n",
            "fold: 1\n",
            "Epoch: 0, Accuracy: 0.4014084507042254\n",
            "Epoch: 1, Accuracy: 0.9577464788732394\n",
            "Epoch: 2, Accuracy: 0.9859154929577465\n",
            "Epoch: 3, Accuracy: 0.9788732394366197\n",
            "Epoch: 4, Accuracy: 0.9859154929577465\n",
            "Epoch: 5, Accuracy: 0.971830985915493\n",
            "Epoch: 6, Accuracy: 0.9859154929577465\n",
            "Epoch: 7, Accuracy: 0.9788732394366197\n",
            "Epoch: 8, Accuracy: 0.9859154929577465\n",
            "Epoch: 9, Accuracy: 0.9929577464788732\n",
            "test accuracy fold: 0.9166666666666666\n",
            "\n",
            "fold: 2\n",
            "Epoch: 0, Accuracy: 0.4014084507042254\n",
            "Epoch: 1, Accuracy: 0.9507042253521126\n",
            "Epoch: 2, Accuracy: 0.971830985915493\n",
            "Epoch: 3, Accuracy: 0.9859154929577465\n",
            "Epoch: 4, Accuracy: 0.9859154929577465\n",
            "Epoch: 5, Accuracy: 0.9929577464788732\n",
            "Epoch: 6, Accuracy: 0.9929577464788732\n",
            "Epoch: 7, Accuracy: 0.9859154929577465\n",
            "Epoch: 8, Accuracy: 1.0\n",
            "Epoch: 9, Accuracy: 1.0\n",
            "test accuracy fold: 0.9444444444444444\n",
            "\n",
            "fold: 3\n",
            "Epoch: 0, Accuracy: 0.39436619718309857\n",
            "Epoch: 1, Accuracy: 0.9225352112676056\n",
            "Epoch: 2, Accuracy: 0.9788732394366197\n",
            "Epoch: 3, Accuracy: 0.9788732394366197\n",
            "Epoch: 4, Accuracy: 0.9788732394366197\n",
            "Epoch: 5, Accuracy: 0.9859154929577465\n",
            "Epoch: 6, Accuracy: 0.9859154929577465\n",
            "Epoch: 7, Accuracy: 0.9859154929577465\n",
            "Epoch: 8, Accuracy: 0.9859154929577465\n",
            "Epoch: 9, Accuracy: 1.0\n",
            "test accuracy fold: 0.9444444444444444\n",
            "\n",
            "fold: 4\n",
            "Epoch: 0, Accuracy: 0.3986013986013986\n",
            "Epoch: 1, Accuracy: 0.9300699300699301\n",
            "Epoch: 2, Accuracy: 0.972027972027972\n",
            "Epoch: 3, Accuracy: 0.986013986013986\n",
            "Epoch: 4, Accuracy: 0.9790209790209791\n",
            "Epoch: 5, Accuracy: 0.9790209790209791\n",
            "Epoch: 6, Accuracy: 0.993006993006993\n",
            "Epoch: 7, Accuracy: 1.0\n",
            "Epoch: 8, Accuracy: 1.0\n",
            "Epoch: 9, Accuracy: 1.0\n",
            "test accuracy fold: 0.9428571428571428\n",
            "\n",
            "fold: 5\n",
            "Epoch: 0, Accuracy: 0.3986013986013986\n",
            "Epoch: 1, Accuracy: 0.951048951048951\n",
            "Epoch: 2, Accuracy: 0.972027972027972\n",
            "Epoch: 3, Accuracy: 0.986013986013986\n",
            "Epoch: 4, Accuracy: 0.972027972027972\n",
            "Epoch: 5, Accuracy: 0.986013986013986\n",
            "Epoch: 6, Accuracy: 0.986013986013986\n",
            "Epoch: 7, Accuracy: 0.9790209790209791\n",
            "Epoch: 8, Accuracy: 0.986013986013986\n",
            "Epoch: 9, Accuracy: 0.993006993006993\n",
            "test accuracy fold: 0.9428571428571428\n",
            "\n",
            "Cross-validation with Learning rate = 0.1\n",
            "fold: 1\n",
            "Epoch: 0, Accuracy: 0.4014084507042254\n",
            "Epoch: 1, Accuracy: 0.9577464788732394\n",
            "Epoch: 2, Accuracy: 0.9859154929577465\n",
            "Epoch: 3, Accuracy: 0.9788732394366197\n",
            "Epoch: 4, Accuracy: 0.9859154929577465\n",
            "Epoch: 5, Accuracy: 0.971830985915493\n",
            "Epoch: 6, Accuracy: 0.9859154929577465\n",
            "Epoch: 7, Accuracy: 0.9788732394366197\n",
            "Epoch: 8, Accuracy: 0.9859154929577465\n",
            "Epoch: 9, Accuracy: 0.9929577464788732\n",
            "test accuracy fold: 0.9166666666666666\n",
            "\n",
            "fold: 2\n",
            "Epoch: 0, Accuracy: 0.4014084507042254\n",
            "Epoch: 1, Accuracy: 0.9507042253521126\n",
            "Epoch: 2, Accuracy: 0.971830985915493\n",
            "Epoch: 3, Accuracy: 0.9859154929577465\n",
            "Epoch: 4, Accuracy: 0.9859154929577465\n",
            "Epoch: 5, Accuracy: 0.9929577464788732\n",
            "Epoch: 6, Accuracy: 0.9929577464788732\n",
            "Epoch: 7, Accuracy: 0.9859154929577465\n",
            "Epoch: 8, Accuracy: 1.0\n",
            "Epoch: 9, Accuracy: 1.0\n",
            "test accuracy fold: 0.9444444444444444\n",
            "\n",
            "fold: 3\n",
            "Epoch: 0, Accuracy: 0.39436619718309857\n",
            "Epoch: 1, Accuracy: 0.9225352112676056\n",
            "Epoch: 2, Accuracy: 0.9788732394366197\n",
            "Epoch: 3, Accuracy: 0.9788732394366197\n",
            "Epoch: 4, Accuracy: 0.9788732394366197\n",
            "Epoch: 5, Accuracy: 0.9859154929577465\n",
            "Epoch: 6, Accuracy: 0.9859154929577465\n",
            "Epoch: 7, Accuracy: 0.9859154929577465\n",
            "Epoch: 8, Accuracy: 0.9859154929577465\n",
            "Epoch: 9, Accuracy: 1.0\n",
            "test accuracy fold: 0.9444444444444444\n",
            "\n",
            "fold: 4\n",
            "Epoch: 0, Accuracy: 0.3986013986013986\n",
            "Epoch: 1, Accuracy: 0.9300699300699301\n",
            "Epoch: 2, Accuracy: 0.972027972027972\n",
            "Epoch: 3, Accuracy: 0.986013986013986\n",
            "Epoch: 4, Accuracy: 0.9790209790209791\n",
            "Epoch: 5, Accuracy: 0.9790209790209791\n",
            "Epoch: 6, Accuracy: 0.993006993006993\n",
            "Epoch: 7, Accuracy: 1.0\n",
            "Epoch: 8, Accuracy: 1.0\n",
            "Epoch: 9, Accuracy: 1.0\n",
            "test accuracy fold: 0.9428571428571428\n",
            "\n",
            "fold: 5\n",
            "Epoch: 0, Accuracy: 0.3986013986013986\n",
            "Epoch: 1, Accuracy: 0.951048951048951\n",
            "Epoch: 2, Accuracy: 0.972027972027972\n",
            "Epoch: 3, Accuracy: 0.986013986013986\n",
            "Epoch: 4, Accuracy: 0.972027972027972\n",
            "Epoch: 5, Accuracy: 0.986013986013986\n",
            "Epoch: 6, Accuracy: 0.986013986013986\n",
            "Epoch: 7, Accuracy: 0.9790209790209791\n",
            "Epoch: 8, Accuracy: 0.986013986013986\n",
            "Epoch: 9, Accuracy: 0.993006993006993\n",
            "test accuracy fold: 0.9428571428571428\n",
            "\n",
            "Mean accuracy: 0.9382539682539683, std accuracy: 0.010816968277714813\n"
          ]
        }
      ]
    }
  ]
}