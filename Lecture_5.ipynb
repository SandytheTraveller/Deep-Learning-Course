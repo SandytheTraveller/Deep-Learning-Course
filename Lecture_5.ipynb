{
  "cells": [
    {
      "cell_type": "markdown",
      "metadata": {
        "id": "UBjEYPaPOHrq"
      },
      "source": [
        "# Lecture 5\n",
        "\n",
        "## Introduction to Keras\n",
        "- Keras is an open source deep learning framework for Python\n",
        "- It provides high-level building blocks for developing deep learning models\n",
        "- It has been developed by an artificial intelligence researcher at Google named Francois Chollet\n",
        "- Currently used by many leading companies\n",
        "\n",
        "### What is Keras?\n",
        "\n",
        "- Keras is a high-level interface for more specialized, well-optimized tensor manipulation libraries.\n",
        "  - Such libraries serve as the **backend engigne** of Keras\n",
        "    - TensorFlow, or Microsoft Cognitive Toolkit (CNTK), or Theano\n",
        "\n",
        "- It does not handle itself low-level operations such as tensor products, convolutions, etc.\n",
        "- It was developed with a focus on enabling fast experimentation\n",
        "\n",
        "\n",
        "## Tensorflow\n",
        "- open-source software library\n",
        "- Intensely optimized for fast Numerical computations\n",
        "- Widely used for Machine Learning/Deep Learning\n",
        "- First public release, TensorFlow 1.0.0, 2017\n",
        "- Based on tensors: Generalization of vectors and matrices to potentially higher dimensions\n",
        "\n",
        "- Everything is a tensor!\n",
        "  - A scalar is a tensor of dimension 0\n",
        "  - A vector is a tensor of dimension 1\n",
        "  - A matrix is a tensor of dimension 2\n",
        "- Say you have N images, each of size H x W - represent that as a tensor of dimension N x H x W\n",
        "- Tensorflow is literally the flow of tensors\n",
        "* Symbolic tensor manipulation framework developed by Google\n",
        "\n",
        "* The idea of a computational graph is central to TensorFlow\n",
        "\n",
        "- In Tensorflow 2.0 not necessary anymore to define placeholder to run computations\n",
        "\n",
        "* Eager computation: allows to direct invoke the operand\n",
        "\n",
        "* less efficient: used just for interactive computation\n",
        "* tf.enable_eager_execution() must be called at program startup, **let's restart the session**, the run the cell below"
      ]
    },
    {
      "cell_type": "code",
      "execution_count": null,
      "metadata": {
        "colab": {
          "base_uri": "https://localhost:8080/"
        },
        "id": "9Y2-gWKAOEic",
        "outputId": "aeb47aa2-5ed2-47ff-f323-a942abdae846"
      },
      "outputs": [
        {
          "data": {
            "text/plain": [
              "<tf.Tensor: shape=(3,), dtype=float32, numpy=array([1.5      , 3.       , 1.9000001], dtype=float32)>"
            ]
          },
          "execution_count": 1,
          "metadata": {},
          "output_type": "execute_result"
        }
      ],
      "source": [
        "import tensorflow.compat.v1 as tf\n",
        "tf.compat.v1.enable_eager_execution()\n",
        "\n",
        "operand1 = [1.5, 2, 2.9]\n",
        "operand2 = [0, 1, -1]\n",
        "tf.add(operand1, operand2)"
      ]
    },
    {
      "cell_type": "markdown",
      "metadata": {
        "id": "073HvuA41a9C"
      },
      "source": [
        "* Tensorflow low level operation are hidden when programming with Keras\n",
        "* We can import keras directly or import tensorflow.keras\n",
        "* Since the Keras release 2.3.0 Keras and tensorflow.keras are in sync   "
      ]
    },
    {
      "cell_type": "code",
      "execution_count": null,
      "metadata": {
        "colab": {
          "base_uri": "https://localhost:8080/"
        },
        "id": "3ZBYLd7E1dPb",
        "outputId": "cc95cb93-5efa-404b-c8db-be78c507c8db"
      },
      "outputs": [
        {
          "name": "stdout",
          "output_type": "stream",
          "text": [
            "3.4.1\n",
            "2.17.0\n"
          ]
        }
      ],
      "source": [
        "import tensorflow as tf\n",
        "import keras as K\n",
        "print(K.__version__)\n",
        "print(tf.__version__)"
      ]
    },
    {
      "cell_type": "markdown",
      "metadata": {
        "id": "-cMiVWfk1o1G"
      },
      "source": [
        "- Keras model accept 3 types of inputs:\n",
        "  - Numpy arrays, like scikit-learn\n",
        "  - Tensorflow Dataset objects\n",
        "  - Python generators that yoeld batches of data\n",
        "\n",
        "- We know build an MLP to classify MNIST handwritten digits (keras has its own dataset module)"
      ]
    },
    {
      "cell_type": "code",
      "execution_count": null,
      "metadata": {
        "colab": {
          "base_uri": "https://localhost:8080/"
        },
        "id": "4T3ttDw_1oZ9",
        "outputId": "a84ace7c-70db-44f0-c812-3b7b7c05b090"
      },
      "outputs": [
        {
          "name": "stdout",
          "output_type": "stream",
          "text": [
            "Downloading data from https://storage.googleapis.com/tensorflow/tf-keras-datasets/mnist.npz\n",
            "\u001b[1m11490434/11490434\u001b[0m \u001b[32m━━━━━━━━━━━━━━━━━━━━\u001b[0m\u001b[37m\u001b[0m \u001b[1m0s\u001b[0m 0us/step\n",
            "X_train.shape:(60000, 28, 28),    X_train type :<class 'numpy.ndarray'>\n",
            "X_test.shape:(10000, 28, 28),    X_test type :<class 'numpy.ndarray'>\n"
          ]
        }
      ],
      "source": [
        "import numpy as np\n",
        "from keras.datasets import mnist\n",
        "\n",
        "(X_train, y_train), (X_test, y_test) = mnist.load_data()\n",
        "\n",
        "print(f\"X_train.shape:{X_train.shape},\\\n",
        "    X_train type :{type(X_train)}\")\n",
        "print(f\"X_test.shape:{X_test.shape},\\\n",
        "    X_test type :{type(X_test)}\")"
      ]
    },
    {
      "cell_type": "markdown",
      "metadata": {
        "id": "sQiXHsMK2M3z"
      },
      "source": [
        "- We have 60000 samples in our training set belonging to 10 classes.\n",
        "- The images are 28x28 pixels each. We can confirm this by plotting the first sample in matplotlib."
      ]
    },
    {
      "cell_type": "code",
      "execution_count": null,
      "metadata": {
        "colab": {
          "base_uri": "https://localhost:8080/",
          "height": 464
        },
        "id": "NTwwf0pB2aI6",
        "outputId": "22744fcf-2eb4-4898-dcc7-e3973bf98b66"
      },
      "outputs": [
        {
          "name": "stdout",
          "output_type": "stream",
          "text": [
            "Unique classes: [0 1 2 3 4 5 6 7 8 9]\n",
            "[5 0 4 1 9 2 1 3 1 4]\n"
          ]
        },
        {
          "data": {
            "image/png": "[encoded data removed]",
            "text/plain": [
              "<Figure size 640x480 with 1 Axes>"
            ]
          },
          "metadata": {},
          "output_type": "display_data"
        }
      ],
      "source": [
        "from matplotlib import pyplot as plt\n",
        "plt.imshow(X_train[0])\n",
        "print(f'Unique classes: {np.unique(y_train)}')\n",
        "print(y_train[:10])"
      ]
    },
    {
      "cell_type": "markdown",
      "metadata": {
        "id": "0Eutld-32o-5"
      },
      "source": [
        "- MLP takes vectors as inputs\n",
        "- How to change images into MLP input?\n",
        "  We vectorize them by using the reshape() method."
      ]
    },
    {
      "cell_type": "code",
      "execution_count": null,
      "metadata": {
        "colab": {
          "base_uri": "https://localhost:8080/"
        },
        "id": "tdFkAtYT2zHR",
        "outputId": "9012a610-0e3c-4f27-bbe4-c69d2801a8f2"
      },
      "outputs": [
        {
          "name": "stdout",
          "output_type": "stream",
          "text": [
            "X_train.shape:(60000, 784)\n",
            "X_test.shape:(10000, 784)\n",
            "X_train.dtype:uint8\n",
            "X_train.dtype:float32\n"
          ]
        }
      ],
      "source": [
        "# reshaping all the training and testing datasets by removing one dimension\n",
        "X_train = X_train.reshape(-1, 28*28)\n",
        "print(f\"X_train.shape:{X_train.shape}\")\n",
        "\n",
        "X_test = X_test.reshape(-1, 28*28)\n",
        "print(f\"X_test.shape:{X_test.shape}\")\n",
        "\n",
        "# keras models need float32 inputs\n",
        "print(f\"X_train.dtype:{X_train.dtype}\")\n",
        "X_train = X_train.astype('float32')\n",
        "print(f\"X_train.dtype:{X_train.dtype}\")\n",
        "X_test = X_test.astype('float32')"
      ]
    },
    {
      "cell_type": "markdown",
      "metadata": {
        "id": "tK8Ph8Xf3RId"
      },
      "source": [
        "### Keras Sequential Model\n",
        "- Sequential model is basically a linear composition of Keras Layers.\n",
        "  - It creates a FFNN\n",
        "- This is simply a linear stack of neural network layers, and it's perfect for the type of feed-forward model like MLP\n",
        "\n",
        "We know import the Sequential model type from Keras and the first layer type Dense.\n",
        "  - A fully-connected layer, like in MLP"
      ]
    },
    {
      "cell_type": "code",
      "execution_count": null,
      "metadata": {
        "id": "hGrji65_3Q5C"
      },
      "outputs": [],
      "source": [
        "from tensorflow.keras.models import Sequential\n",
        "# dense is a fully connected layer\n",
        "from tensorflow.keras.layers import Dense"
      ]
    },
    {
      "cell_type": "markdown",
      "metadata": {
        "id": "zLK01Jd592sh"
      },
      "source": [
        "tf.keras.layers.Dense(units=,\n",
        "                      activation=None,\n",
        "                      use_bias=True,\n",
        "                      kernel_initializer='glorot_uniform',\n",
        "                      bias_initializer='zeros',\n",
        "                      kernel_regularizer=None,\n",
        "                      bias_regularizer=None,\n",
        "                      activity_regularizer=None,\n",
        "                      kernel_constraint=None,\n",
        "                      bias_constraint=None,\n",
        "                      **kwargs)"
      ]
    },
    {
      "cell_type": "markdown",
      "metadata": {
        "id": "dGeho6Hd4VoY"
      },
      "source": [
        "- units - positive integer, dimensionality of the output space\n",
        "- activation - activation function to use. If we don't specify anything, no activation is applied (linear activation a(x) = x)\n",
        "- use_bias - boolean, whether the layer uses a bias vector.\n",
        "- kernel_initializer - initializer for the kernel weights matrix\n",
        "- bias_initializer - initializer for the bias vector\n",
        "- kernel_regularizer - regularizer function applied to the kernel weights matrix\n",
        "- bias_regularizer - regularizer function applied to the bias vector\n",
        "- activity_regularizer - regularizer function applied to the output of the layer (its 'activation')\n",
        "- kernel_constraint - constraint function applied to the kernel weights matrix\n",
        "- bias_constraint - constraint function applied to the bias vector\n"
      ]
    },
    {
      "cell_type": "code",
      "execution_count": null,
      "metadata": {
        "colab": {
          "base_uri": "https://localhost:8080/"
        },
        "id": "gbnm83Te6lih",
        "outputId": "ff71aae1-32b0-4c50-f8fa-bc3876ace485"
      },
      "outputs": [
        {
          "name": "stdout",
          "output_type": "stream",
          "text": [
            "Number of classes: 10\n"
          ]
        },
        {
          "name": "stderr",
          "output_type": "stream",
          "text": [
            "/usr/local/lib/python3.10/dist-packages/keras/src/layers/core/dense.py:87: UserWarning: Do not pass an `input_shape`/`input_dim` argument to a layer. When using Sequential models, prefer using an `Input(shape)` object as the first layer in the model instead.\n",
            "  super().__init__(activity_regularizer=activity_regularizer, **kwargs)\n"
          ]
        }
      ],
      "source": [
        "import numpy as np\n",
        "\n",
        "np.random.seed(42) # for reproducibility\n",
        "tf.random.set_seed(42)\n",
        "\n",
        "num_classes = len(np.unique(y_train))\n",
        "print(f'Number of classes: {num_classes}')\n",
        "\n",
        "# create a Sequential model\n",
        "model = Sequential([\n",
        "    # First hidden layer. Input data with size 28*28 and output size 256\n",
        "        #   256 means you set up this layer with 256 hidden neurons.\n",
        "        #   Such a value is up to you, typically an hyper-parameter\n",
        "        # input_shape must be specified just for the first hidden layer\n",
        "        # in (28*28,) the comma indicates the dimension of the batches,\n",
        "        #     unknowkn during the implementation\n",
        "    Dense(256, input_shape=(28*28,), activation='sigmoid'),\n",
        "\n",
        "    # Second hidden layer. Input data with size 256,\n",
        "        #    which were same to output of the first hidden layer.\n",
        "        #    output size 128, we set up 128 neurons  in this hidden layer.\n",
        "        # No need to give input size here because keras gets it automatically.\n",
        "    Dense(128, activation='sigmoid'),\n",
        "\n",
        "    # output layer. the number of output should be your number\n",
        "        #    of classification\n",
        "        # Softmx for multiclass classification\n",
        "    Dense(num_classes, activation='softmax')\n",
        "])"
      ]
    },
    {
      "cell_type": "markdown",
      "metadata": {
        "id": "JkbUVltb7Lpk"
      },
      "source": [
        "Alternatively, we can define the model and then the add() method to add layers"
      ]
    },
    {
      "cell_type": "code",
      "execution_count": null,
      "metadata": {
        "id": "yLd6SBgq7QYK"
      },
      "outputs": [],
      "source": [
        "np.random.seed(42) # for reproducibility\n",
        "tf.random.set_seed(42)\n",
        "\n",
        "## alternative definition usinf Sequential.add()\n",
        "model = Sequential()\n",
        "model.add(Dense(256, input_shape=(28*28,), activation='sigmoid'))\n",
        "model.add(Dense(128, activation='sigmoid'))\n",
        "model.add(Dense(num_classes, activation='softmax'))"
      ]
    },
    {
      "cell_type": "markdown",
      "metadata": {
        "id": "I7_kxR8p97Ai"
      },
      "source": [
        "- Third alternative, we can use the tensorflow.keras.Model class, along with an tensorflow.keras.Input class\n",
        "  - This alternativee is useful when we need to define models with multiple inputs and/or multiple outputs."
      ]
    },
    {
      "cell_type": "code",
      "execution_count": null,
      "metadata": {
        "id": "SviQB1_h-PHO"
      },
      "outputs": [],
      "source": [
        "np.random.seed(42)\n",
        "tf.random.set_seed(42)\n",
        "\n",
        "input = tf.keras.Input(shape=(28*28,))\n",
        "hid = tf.keras.layers.Dense(256, activation='sigmoid')(input)\n",
        "hid = tf.keras.layers.Dense(128, activation='sigmoid')(hid)\n",
        "output = tf.keras.layers.Dense(num_classes, activation='sigmoid')(hid)\n",
        "model = tf.keras.Model(input, output)"
      ]
    },
    {
      "cell_type": "code",
      "execution_count": null,
      "metadata": {
        "colab": {
          "base_uri": "https://localhost:8080/",
          "height": 257
        },
        "id": "3l917eV8AA3Z",
        "outputId": "a68493f0-8c6b-40d9-92a5-5b604cd781fd"
      },
      "outputs": [
        {
          "data": {
            "text/html": [
              "<pre style=\"white-space:pre;overflow-x:auto;line-height:normal;font-family:Menlo,'DejaVu Sans Mono',consolas,'Courier New',monospace\"><span style=\"font-weight: bold\">Model: \"functional_4\"</span>\n",
              "</pre>\n"
            ],
            "text/plain": [
              "\u001b[1mModel: \"functional_4\"\u001b[0m\n"
            ]
          },
          "metadata": {},
          "output_type": "display_data"
        },
        {
          "data": {
            "text/html": [
              "<pre style=\"white-space:pre;overflow-x:auto;line-height:normal;font-family:Menlo,'DejaVu Sans Mono',consolas,'Courier New',monospace\">┏━━━━━━━━━━━━━━━━━━━━━━━━━━━━━━━━━━━━━━┳━━━━━━━━━━━━━━━━━━━━━━━━━━━━━┳━━━━━━━━━━━━━━━━━┓\n",
              "┃<span style=\"font-weight: bold\"> Layer (type)                         </span>┃<span style=\"font-weight: bold\"> Output Shape                </span>┃<span style=\"font-weight: bold\">         Param # </span>┃\n",
              "┡━━━━━━━━━━━━━━━━━━━━━━━━━━━━━━━━━━━━━━╇━━━━━━━━━━━━━━━━━━━━━━━━━━━━━╇━━━━━━━━━━━━━━━━━┩\n",
              "│ input_layer_2 (<span style=\"color: #0087ff; text-decoration-color: #0087ff\">InputLayer</span>)           │ (<span style=\"color: #00d7ff; text-decoration-color: #00d7ff\">None</span>, <span style=\"color: #00af00; text-decoration-color: #00af00\">784</span>)                 │               <span style=\"color: #00af00; text-decoration-color: #00af00\">0</span> │\n",
              "├──────────────────────────────────────┼─────────────────────────────┼─────────────────┤\n",
              "│ dense_6 (<span style=\"color: #0087ff; text-decoration-color: #0087ff\">Dense</span>)                      │ (<span style=\"color: #00d7ff; text-decoration-color: #00d7ff\">None</span>, <span style=\"color: #00af00; text-decoration-color: #00af00\">256</span>)                 │         <span style=\"color: #00af00; text-decoration-color: #00af00\">200,960</span> │\n",
              "├──────────────────────────────────────┼─────────────────────────────┼─────────────────┤\n",
              "│ dense_7 (<span style=\"color: #0087ff; text-decoration-color: #0087ff\">Dense</span>)                      │ (<span style=\"color: #00d7ff; text-decoration-color: #00d7ff\">None</span>, <span style=\"color: #00af00; text-decoration-color: #00af00\">128</span>)                 │          <span style=\"color: #00af00; text-decoration-color: #00af00\">32,896</span> │\n",
              "├──────────────────────────────────────┼─────────────────────────────┼─────────────────┤\n",
              "│ dense_8 (<span style=\"color: #0087ff; text-decoration-color: #0087ff\">Dense</span>)                      │ (<span style=\"color: #00d7ff; text-decoration-color: #00d7ff\">None</span>, <span style=\"color: #00af00; text-decoration-color: #00af00\">10</span>)                  │           <span style=\"color: #00af00; text-decoration-color: #00af00\">1,290</span> │\n",
              "└──────────────────────────────────────┴─────────────────────────────┴─────────────────┘\n",
              "</pre>\n"
            ],
            "text/plain": [
              "┏━━━━━━━━━━━━━━━━━━━━━━━━━━━━━━━━━━━━━━┳━━━━━━━━━━━━━━━━━━━━━━━━━━━━━┳━━━━━━━━━━━━━━━━━┓\n",
              "┃\u001b[1m \u001b[0m\u001b[1mLayer (type)                        \u001b[0m\u001b[1m \u001b[0m┃\u001b[1m \u001b[0m\u001b[1mOutput Shape               \u001b[0m\u001b[1m \u001b[0m┃\u001b[1m \u001b[0m\u001b[1m        Param #\u001b[0m\u001b[1m \u001b[0m┃\n",
              "┡━━━━━━━━━━━━━━━━━━━━━━━━━━━━━━━━━━━━━━╇━━━━━━━━━━━━━━━━━━━━━━━━━━━━━╇━━━━━━━━━━━━━━━━━┩\n",
              "│ input_layer_2 (\u001b[38;5;33mInputLayer\u001b[0m)           │ (\u001b[38;5;45mNone\u001b[0m, \u001b[38;5;34m784\u001b[0m)                 │               \u001b[38;5;34m0\u001b[0m │\n",
              "├──────────────────────────────────────┼─────────────────────────────┼─────────────────┤\n",
              "│ dense_6 (\u001b[38;5;33mDense\u001b[0m)                      │ (\u001b[38;5;45mNone\u001b[0m, \u001b[38;5;34m256\u001b[0m)                 │         \u001b[38;5;34m200,960\u001b[0m │\n",
              "├──────────────────────────────────────┼─────────────────────────────┼─────────────────┤\n",
              "│ dense_7 (\u001b[38;5;33mDense\u001b[0m)                      │ (\u001b[38;5;45mNone\u001b[0m, \u001b[38;5;34m128\u001b[0m)                 │          \u001b[38;5;34m32,896\u001b[0m │\n",
              "├──────────────────────────────────────┼─────────────────────────────┼─────────────────┤\n",
              "│ dense_8 (\u001b[38;5;33mDense\u001b[0m)                      │ (\u001b[38;5;45mNone\u001b[0m, \u001b[38;5;34m10\u001b[0m)                  │           \u001b[38;5;34m1,290\u001b[0m │\n",
              "└──────────────────────────────────────┴─────────────────────────────┴─────────────────┘\n"
            ]
          },
          "metadata": {},
          "output_type": "display_data"
        },
        {
          "data": {
            "text/html": [
              "<pre style=\"white-space:pre;overflow-x:auto;line-height:normal;font-family:Menlo,'DejaVu Sans Mono',consolas,'Courier New',monospace\"><span style=\"font-weight: bold\"> Total params: </span><span style=\"color: #00af00; text-decoration-color: #00af00\">235,146</span> (918.54 KB)\n",
              "</pre>\n"
            ],
            "text/plain": [
              "\u001b[1m Total params: \u001b[0m\u001b[38;5;34m235,146\u001b[0m (918.54 KB)\n"
            ]
          },
          "metadata": {},
          "output_type": "display_data"
        },
        {
          "data": {
            "text/html": [
              "<pre style=\"white-space:pre;overflow-x:auto;line-height:normal;font-family:Menlo,'DejaVu Sans Mono',consolas,'Courier New',monospace\"><span style=\"font-weight: bold\"> Trainable params: </span><span style=\"color: #00af00; text-decoration-color: #00af00\">235,146</span> (918.54 KB)\n",
              "</pre>\n"
            ],
            "text/plain": [
              "\u001b[1m Trainable params: \u001b[0m\u001b[38;5;34m235,146\u001b[0m (918.54 KB)\n"
            ]
          },
          "metadata": {},
          "output_type": "display_data"
        },
        {
          "data": {
            "text/html": [
              "<pre style=\"white-space:pre;overflow-x:auto;line-height:normal;font-family:Menlo,'DejaVu Sans Mono',consolas,'Courier New',monospace\"><span style=\"font-weight: bold\"> Non-trainable params: </span><span style=\"color: #00af00; text-decoration-color: #00af00\">0</span> (0.00 B)\n",
              "</pre>\n"
            ],
            "text/plain": [
              "\u001b[1m Non-trainable params: \u001b[0m\u001b[38;5;34m0\u001b[0m (0.00 B)\n"
            ]
          },
          "metadata": {},
          "output_type": "display_data"
        }
      ],
      "source": [
        "model.summary() # print out the model structure"
      ]
    },
    {
      "cell_type": "markdown",
      "metadata": {
        "id": "eJsZ3GOaAOSw"
      },
      "source": [
        "Number of Parameters:\n",
        "- First layer: **input size** = 784+1(+1 for bias), **output size** = 256. we have totally (784+1)* 256 = 200960 parameters\n",
        "\n",
        "- Second layer: **input size** = 256 + 1, **output size** = 128. We have totally (256+1)* 128 = 32896 parameters\n",
        "\n",
        "- output layer: **input size** = 128 + 1, **output size** = 10. We have totally (128+1)* 10 = 1290 parameters"
      ]
    },
    {
      "cell_type": "markdown",
      "metadata": {
        "id": "IWjIhTonAu57"
      },
      "source": [
        "Compile the model:\n",
        "- Keras Model class provides a method, compile() to compile the model\n",
        "- It transforms the model into a computational graph (possibly static), to get the best execution performance.\n",
        "- The argument and default value of the compile() method is as follows:\n"
      ]
    },
    {
      "cell_type": "markdown",
      "metadata": {
        "id": "4r-yXqxVjbd5"
      },
      "source": [
        "Model.compile(optimizer='rmsprop',\n",
        "              loss=None,\n",
        "              metrics=None,\n",
        "              loss_weights=None,\n",
        "              weighted_metrics=None,\n",
        "              run_eagerly=None,\n",
        "              steps_per_execution=None,\n",
        "              jit_compile=None,\n",
        "              **kwargs)"
      ]
    },
    {
      "cell_type": "markdown",
      "metadata": {
        "id": "EZ4kdup7Cprr"
      },
      "source": [
        "Parameters:\n",
        "- **optimizer**: String (name of optimizer) or optimizer instance. See tf.keras.optimizers\n",
        "\n",
        "* **loss**: Loss function. May be a string (name of loss function), or a tf.keras.losses.Loss instance. See tf.keras.losses\n",
        "\n",
        "* **metrics**: List of metrics to be evaluated by the model during training and testing. Each of this can be a string (name of a built-in function), function or a tf.keras.metrics.Metric instance. See tf.keras.metrics."
      ]
    },
    {
      "cell_type": "code",
      "execution_count": null,
      "metadata": {
        "id": "rXYTC523JyX2"
      },
      "outputs": [],
      "source": [
        "model.compile(optimizer='SGD', # stochastic gradient descent\n",
        "              loss='sparse_categorical_crossentropy',\n",
        "              metrics=['accuracy'])"
      ]
    },
    {
      "cell_type": "markdown",
      "metadata": {
        "id": "_dufH0W8KA0W"
      },
      "source": [
        "- sparse_categorical_crossentropy:\n",
        "  - It is the cross entropy (CE) loss, the sparse stands for automatic transformation of the labels into one-hot vectors\n",
        "    - we do not need to transform them manually\n",
        "    - we can provide the integer labels 0, ..., 9\n",
        "  - As studied, CE is suitable for multiclass classification\n",
        "  - We expect labels to be provided as integers\n",
        "  - Use CategoricalCrossentropy loss if we want to provide lables using one-hot representation\n",
        "\n",
        "  ### Fitting/Training the model\n",
        "\n",
        "  - We invoke the method fit on the Model instance\n",
        "  - THe whole training is hidden!"
      ]
    },
    {
      "cell_type": "code",
      "execution_count": null,
      "metadata": {
        "colab": {
          "base_uri": "https://localhost:8080/"
        },
        "id": "_B8H_wd5J_Xy",
        "outputId": "3e1552d5-a45d-47ab-8570-129f140aba75"
      },
      "outputs": [
        {
          "name": "stdout",
          "output_type": "stream",
          "text": [
            "Epoch 1/30\n",
            "\u001b[1m844/844\u001b[0m \u001b[32m━━━━━━━━━━━━━━━━━━━━\u001b[0m\u001b[37m\u001b[0m \u001b[1m14s\u001b[0m 13ms/step - accuracy: 0.5188 - loss: 1.8786 - val_accuracy: 0.8590 - val_loss: 0.9079\n",
            "Epoch 2/30\n",
            "\u001b[1m844/844\u001b[0m \u001b[32m━━━━━━━━━━━━━━━━━━━━\u001b[0m\u001b[37m\u001b[0m \u001b[1m9s\u001b[0m 10ms/step - accuracy: 0.8418 - loss: 0.8343 - val_accuracy: 0.9075 - val_loss: 0.5145\n",
            "Epoch 3/30\n",
            "\u001b[1m844/844\u001b[0m \u001b[32m━━━━━━━━━━━━━━━━━━━━\u001b[0m\u001b[37m\u001b[0m \u001b[1m8s\u001b[0m 8ms/step - accuracy: 0.8817 - loss: 0.5382 - val_accuracy: 0.9205 - val_loss: 0.3773\n",
            "Epoch 4/30\n",
            "\u001b[1m844/844\u001b[0m \u001b[32m━━━━━━━━━━━━━━━━━━━━\u001b[0m\u001b[37m\u001b[0m \u001b[1m8s\u001b[0m 5ms/step - accuracy: 0.8991 - loss: 0.4216 - val_accuracy: 0.9272 - val_loss: 0.3164\n",
            "Epoch 5/30\n",
            "\u001b[1m844/844\u001b[0m \u001b[32m━━━━━━━━━━━━━━━━━━━━\u001b[0m\u001b[37m\u001b[0m \u001b[1m7s\u001b[0m 7ms/step - accuracy: 0.9078 - loss: 0.3601 - val_accuracy: 0.9315 - val_loss: 0.2781\n",
            "Epoch 6/30\n",
            "\u001b[1m844/844\u001b[0m \u001b[32m━━━━━━━━━━━━━━━━━━━━\u001b[0m\u001b[37m\u001b[0m \u001b[1m9s\u001b[0m 5ms/step - accuracy: 0.9158 - loss: 0.3208 - val_accuracy: 0.9370 - val_loss: 0.2529\n",
            "Epoch 7/30\n",
            "\u001b[1m844/844\u001b[0m \u001b[32m━━━━━━━━━━━━━━━━━━━━\u001b[0m\u001b[37m\u001b[0m \u001b[1m6s\u001b[0m 7ms/step - accuracy: 0.9214 - loss: 0.2933 - val_accuracy: 0.9437 - val_loss: 0.2335\n",
            "Epoch 8/30\n",
            "\u001b[1m844/844\u001b[0m \u001b[32m━━━━━━━━━━━━━━━━━━━━\u001b[0m\u001b[37m\u001b[0m \u001b[1m4s\u001b[0m 5ms/step - accuracy: 0.9264 - loss: 0.2705 - val_accuracy: 0.9452 - val_loss: 0.2184\n",
            "Epoch 9/30\n",
            "\u001b[1m844/844\u001b[0m \u001b[32m━━━━━━━━━━━━━━━━━━━━\u001b[0m\u001b[37m\u001b[0m \u001b[1m5s\u001b[0m 5ms/step - accuracy: 0.9302 - loss: 0.2530 - val_accuracy: 0.9460 - val_loss: 0.2085\n",
            "Epoch 10/30\n",
            "\u001b[1m844/844\u001b[0m \u001b[32m━━━━━━━━━━━━━━━━━━━━\u001b[0m\u001b[37m\u001b[0m \u001b[1m5s\u001b[0m 6ms/step - accuracy: 0.9351 - loss: 0.2377 - val_accuracy: 0.9473 - val_loss: 0.1998\n",
            "Epoch 11/30\n",
            "\u001b[1m844/844\u001b[0m \u001b[32m━━━━━━━━━━━━━━━━━━━━\u001b[0m\u001b[37m\u001b[0m \u001b[1m4s\u001b[0m 5ms/step - accuracy: 0.9367 - loss: 0.2240 - val_accuracy: 0.9503 - val_loss: 0.1895\n",
            "Epoch 12/30\n",
            "\u001b[1m844/844\u001b[0m \u001b[32m━━━━━━━━━━━━━━━━━━━━\u001b[0m\u001b[37m\u001b[0m \u001b[1m5s\u001b[0m 6ms/step - accuracy: 0.9417 - loss: 0.2129 - val_accuracy: 0.9532 - val_loss: 0.1793\n",
            "Epoch 13/30\n",
            "\u001b[1m844/844\u001b[0m \u001b[32m━━━━━━━━━━━━━━━━━━━━\u001b[0m\u001b[37m\u001b[0m \u001b[1m9s\u001b[0m 5ms/step - accuracy: 0.9445 - loss: 0.2011 - val_accuracy: 0.9550 - val_loss: 0.1739\n",
            "Epoch 14/30\n",
            "\u001b[1m844/844\u001b[0m \u001b[32m━━━━━━━━━━━━━━━━━━━━\u001b[0m\u001b[37m\u001b[0m \u001b[1m7s\u001b[0m 7ms/step - accuracy: 0.9466 - loss: 0.1930 - val_accuracy: 0.9562 - val_loss: 0.1672\n",
            "Epoch 15/30\n",
            "\u001b[1m844/844\u001b[0m \u001b[32m━━━━━━━━━━━━━━━━━━━━\u001b[0m\u001b[37m\u001b[0m \u001b[1m9s\u001b[0m 6ms/step - accuracy: 0.9477 - loss: 0.1869 - val_accuracy: 0.9573 - val_loss: 0.1662\n",
            "Epoch 16/30\n",
            "\u001b[1m844/844\u001b[0m \u001b[32m━━━━━━━━━━━━━━━━━━━━\u001b[0m\u001b[37m\u001b[0m \u001b[1m6s\u001b[0m 7ms/step - accuracy: 0.9505 - loss: 0.1782 - val_accuracy: 0.9597 - val_loss: 0.1561\n",
            "Epoch 17/30\n",
            "\u001b[1m844/844\u001b[0m \u001b[32m━━━━━━━━━━━━━━━━━━━━\u001b[0m\u001b[37m\u001b[0m \u001b[1m4s\u001b[0m 5ms/step - accuracy: 0.9523 - loss: 0.1713 - val_accuracy: 0.9582 - val_loss: 0.1543\n",
            "Epoch 18/30\n",
            "\u001b[1m844/844\u001b[0m \u001b[32m━━━━━━━━━━━━━━━━━━━━\u001b[0m\u001b[37m\u001b[0m \u001b[1m7s\u001b[0m 7ms/step - accuracy: 0.9541 - loss: 0.1633 - val_accuracy: 0.9633 - val_loss: 0.1463\n",
            "Epoch 19/30\n",
            "\u001b[1m844/844\u001b[0m \u001b[32m━━━━━━━━━━━━━━━━━━━━\u001b[0m\u001b[37m\u001b[0m \u001b[1m9s\u001b[0m 5ms/step - accuracy: 0.9563 - loss: 0.1565 - val_accuracy: 0.9640 - val_loss: 0.1435\n",
            "Epoch 20/30\n",
            "\u001b[1m844/844\u001b[0m \u001b[32m━━━━━━━━━━━━━━━━━━━━\u001b[0m\u001b[37m\u001b[0m \u001b[1m6s\u001b[0m 7ms/step - accuracy: 0.9577 - loss: 0.1508 - val_accuracy: 0.9640 - val_loss: 0.1424\n",
            "Epoch 21/30\n",
            "\u001b[1m844/844\u001b[0m \u001b[32m━━━━━━━━━━━━━━━━━━━━\u001b[0m\u001b[37m\u001b[0m \u001b[1m4s\u001b[0m 5ms/step - accuracy: 0.9591 - loss: 0.1462 - val_accuracy: 0.9610 - val_loss: 0.1399\n",
            "Epoch 22/30\n",
            "\u001b[1m844/844\u001b[0m \u001b[32m━━━━━━━━━━━━━━━━━━━━\u001b[0m\u001b[37m\u001b[0m \u001b[1m5s\u001b[0m 5ms/step - accuracy: 0.9611 - loss: 0.1431 - val_accuracy: 0.9643 - val_loss: 0.1358\n",
            "Epoch 23/30\n",
            "\u001b[1m844/844\u001b[0m \u001b[32m━━━━━━━━━━━━━━━━━━━━\u001b[0m\u001b[37m\u001b[0m \u001b[1m6s\u001b[0m 6ms/step - accuracy: 0.9620 - loss: 0.1382 - val_accuracy: 0.9638 - val_loss: 0.1346\n",
            "Epoch 24/30\n",
            "\u001b[1m844/844\u001b[0m \u001b[32m━━━━━━━━━━━━━━━━━━━━\u001b[0m\u001b[37m\u001b[0m \u001b[1m4s\u001b[0m 5ms/step - accuracy: 0.9631 - loss: 0.1331 - val_accuracy: 0.9647 - val_loss: 0.1313\n",
            "Epoch 25/30\n",
            "\u001b[1m844/844\u001b[0m \u001b[32m━━━━━━━━━━━━━━━━━━━━\u001b[0m\u001b[37m\u001b[0m \u001b[1m5s\u001b[0m 6ms/step - accuracy: 0.9650 - loss: 0.1291 - val_accuracy: 0.9630 - val_loss: 0.1291\n",
            "Epoch 26/30\n",
            "\u001b[1m844/844\u001b[0m \u001b[32m━━━━━━━━━━━━━━━━━━━━\u001b[0m\u001b[37m\u001b[0m \u001b[1m5s\u001b[0m 5ms/step - accuracy: 0.9658 - loss: 0.1249 - val_accuracy: 0.9650 - val_loss: 0.1264\n",
            "Epoch 27/30\n",
            "\u001b[1m844/844\u001b[0m \u001b[32m━━━━━━━━━━━━━━━━━━━━\u001b[0m\u001b[37m\u001b[0m \u001b[1m5s\u001b[0m 5ms/step - accuracy: 0.9677 - loss: 0.1205 - val_accuracy: 0.9667 - val_loss: 0.1228\n",
            "Epoch 28/30\n",
            "\u001b[1m844/844\u001b[0m \u001b[32m━━━━━━━━━━━━━━━━━━━━\u001b[0m\u001b[37m\u001b[0m \u001b[1m7s\u001b[0m 7ms/step - accuracy: 0.9676 - loss: 0.1182 - val_accuracy: 0.9663 - val_loss: 0.1205\n",
            "Epoch 29/30\n",
            "\u001b[1m844/844\u001b[0m \u001b[32m━━━━━━━━━━━━━━━━━━━━\u001b[0m\u001b[37m\u001b[0m \u001b[1m4s\u001b[0m 5ms/step - accuracy: 0.9692 - loss: 0.1149 - val_accuracy: 0.9670 - val_loss: 0.1181\n",
            "Epoch 30/30\n",
            "\u001b[1m844/844\u001b[0m \u001b[32m━━━━━━━━━━━━━━━━━━━━\u001b[0m\u001b[37m\u001b[0m \u001b[1m4s\u001b[0m 5ms/step - accuracy: 0.9715 - loss: 0.1087 - val_accuracy: 0.9695 - val_loss: 0.1152\n"
          ]
        },
        {
          "data": {
            "text/plain": [
              "<keras.src.callbacks.history.History at 0x7f340db0a530>"
            ]
          },
          "execution_count": 12,
          "metadata": {},
          "output_type": "execute_result"
        }
      ],
      "source": [
        "batch_size = 64\n",
        "epochs = 30\n",
        "model.fit(X_train, y_train,\n",
        "          epochs=epochs,\n",
        "          batch_size=batch_size,\n",
        "          validation_split=0.1)"
      ]
    },
    {
      "cell_type": "markdown",
      "metadata": {
        "id": "T73snva6L-Fq"
      },
      "source": [
        "### Predict Test Data\n"
      ]
    },
    {
      "cell_type": "code",
      "execution_count": null,
      "metadata": {
        "colab": {
          "base_uri": "https://localhost:8080/"
        },
        "id": "wY7hMzDBMAbD",
        "outputId": "dfc281a5-7257-4aa3-9a1d-a56023c13261"
      },
      "outputs": [
        {
          "name": "stdout",
          "output_type": "stream",
          "text": [
            "\u001b[1m313/313\u001b[0m \u001b[32m━━━━━━━━━━━━━━━━━━━━\u001b[0m\u001b[37m\u001b[0m \u001b[1m1s\u001b[0m 4ms/step\n",
            "pred,shape: (10000, 10)\n"
          ]
        }
      ],
      "source": [
        "pred = model.predict(X_test)\n",
        "print(f'pred,shape: {pred.shape}')"
      ]
    },
    {
      "cell_type": "code",
      "execution_count": null,
      "metadata": {
        "colab": {
          "base_uri": "https://localhost:8080/"
        },
        "id": "fxmrzlDEMVRF",
        "outputId": "9d37e3b6-7173-431d-d4f5-f11587b5bc4d"
      },
      "outputs": [
        {
          "name": "stdout",
          "output_type": "stream",
          "text": [
            "[0.30880603 0.48657313 0.8312857  0.9567297  0.0384323  0.25710538\n",
            " 0.00171413 0.99993706 0.1892504  0.9035583 ]\n",
            "cat_pred.shape: (10000,)\n",
            "7\n"
          ]
        }
      ],
      "source": [
        "# getting categorical prediction\n",
        "# the output neuron with maximum value (among the 10 neurons)\n",
        "# corersponds to the prediction\n",
        "\n",
        "print(pred[0])\n",
        "cat_pred = np.argmax(pred, axis=1)\n",
        "print(f'cat_pred.shape: {cat_pred.shape}')\n",
        "print(cat_pred[0])"
      ]
    },
    {
      "cell_type": "code",
      "execution_count": null,
      "metadata": {
        "colab": {
          "base_uri": "https://localhost:8080/"
        },
        "id": "J9FMhy2rAXDR",
        "outputId": "111cce28-d625-4a5f-dab1-be79de996eb4"
      },
      "outputs": [
        {
          "name": "stdout",
          "output_type": "stream",
          "text": [
            "0.9601\n"
          ]
        }
      ],
      "source": [
        "# compute the test accuracy\n",
        "from sklearn.metrics import accuracy_score\n",
        "\n",
        "print(accuracy_score(y_test, cat_pred))"
      ]
    },
    {
      "cell_type": "markdown",
      "metadata": {
        "id": "upuOF-3tCDjo"
      },
      "source": [
        "## Exercise:\n",
        "* ## Split the training data into train and validation sets (use for instance 80% and 20%)\n",
        "* ## Operate a model selection for the following hyper-parameters\n",
        "1. ### **number of layers**, for instance try (1 or 2 hidden layers)\n",
        "2. ### **Number of hidden units** fixed the numer of layers (256 or 1024)\n",
        "3. ### **Batch size** (try 32 or 128). What main  differences do you observe?\n",
        "4. ### **Number of epochs** if needed increase it.\n"
      ]
    },
    {
      "cell_type": "markdown",
      "metadata": {
        "id": "B18uJuLUCo9W"
      },
      "source": [
        "1. Split training data into train and validation sets"
      ]
    },
    {
      "cell_type": "code",
      "execution_count": null,
      "metadata": {
        "colab": {
          "base_uri": "https://localhost:8080/"
        },
        "id": "ELBV88eCCl1X",
        "outputId": "6d307ffb-a4b5-4903-867a-1951ec7f7a92"
      },
      "outputs": [
        {
          "name": "stdout",
          "output_type": "stream",
          "text": [
            "train_data.shape:(48000, 784),val_data.shape:(12000, 784)\n",
            "train_lab.shape:(48000,),val_lab.shape:(12000,)\n"
          ]
        }
      ],
      "source": [
        "from sklearn.model_selection import train_test_split\n",
        "\n",
        "train_data, val_data, train_lab, val_lab = train_test_split(X_train, y_train,\n",
        "                                                            test_size=0.2)\n",
        "\n",
        "print(f\"train_data.shape:{train_data.shape},val_data.shape:{val_data.shape}\")\n",
        "print(f\"train_lab.shape:{train_lab.shape},val_lab.shape:{val_lab.shape}\")\n",
        "\n",
        "## use following code to merge againg train and validation data for the final training\n",
        "\n",
        "#X_train = np.concatenate([train_data, val_data])\n",
        "#y_train = np.concatenate([train_lab, test_lab])\n"
      ]
    },
    {
      "cell_type": "markdown",
      "metadata": {
        "id": "_nsvKZBKD8Gx"
      },
      "source": [
        "2. Fix a set of possible configurations of all hyper-parameters"
      ]
    },
    {
      "cell_type": "code",
      "execution_count": null,
      "metadata": {
        "id": "93kxKIPuGbwM"
      },
      "outputs": [],
      "source": [
        "n_layers = [1, 2]\n",
        "n_hidden_units = [256, 1024]\n",
        "batch_sizes = [32, 128]\n",
        "\n",
        "n_epochs = 30"
      ]
    },
    {
      "cell_type": "markdown",
      "metadata": {
        "id": "OVEAhikgSX9A"
      },
      "source": [
        "3. Loop over any possible configuration\n",
        "\n",
        "  - for any config, train a model on training data\n",
        "\n",
        "  - Evaluate the performance on validation data\n",
        "\n",
        "  - Pic the configuration having the highest accuracy on validation data"
      ]
    },
    {
      "cell_type": "code",
      "execution_count": null,
      "metadata": {
        "id": "T_egK2leScRn"
      },
      "outputs": [],
      "source": [
        "import tensorflow as tf\n",
        "\n",
        "num_classes = len(np.unique(y_train))\n",
        "\n",
        "# for reproducibility\n",
        "def setRandomSeed(seed):\n",
        "    np.random.seed(seed)\n",
        "    tf.random.set_seed(seed)\n",
        "\n",
        "def defineModelAndTrain(n_layers, n_hidden_units, batch_size, seed=42):\n",
        "    setRandomSeed(seed)\n",
        "    model = Sequential()\n",
        "    model.add(Dense(256, input_shape=(28*28,), activation='sigmoid'))\n",
        "    for _ in range(n_layers):\n",
        "        model.add(Dense(n_hidden_units, activation='sigmoid'))\n",
        "    model.add(Dense(num_classes, activation='softmax'))\n",
        "    model.compile(optimizer='SGD', loss='sparse_categorical_crossentropy', metrics=['accuracy'])\n",
        "    model.fit(train_data, train_lab, epochs=n_epochs,\n",
        "              batch_size=batch_size, verbose=0)\n",
        "    return model"
      ]
    },
    {
      "cell_type": "code",
      "execution_count": null,
      "metadata": {
        "colab": {
          "background_save": true,
          "base_uri": "https://localhost:8080/"
        },
        "id": "ssWflXpIhY8x",
        "outputId": "321b0b49-e0d7-47d2-fe42-7ac2afda345a"
      },
      "outputs": [
        {
          "name": "stdout",
          "output_type": "stream",
          "text": [
            "\u001b[1m375/375\u001b[0m \u001b[32m━━━━━━━━━━━━━━━━━━━━\u001b[0m\u001b[37m\u001b[0m \u001b[1m1s\u001b[0m 3ms/step\n",
            "Configuration: (1, 256, 32) -> accuracy: 0.96075\n",
            "\u001b[1m375/375\u001b[0m \u001b[32m━━━━━━━━━━━━━━━━━━━━\u001b[0m\u001b[37m\u001b[0m \u001b[1m1s\u001b[0m 3ms/step\n",
            "Configuration: (1, 256, 128) -> accuracy: 0.9396666666666667\n",
            "\u001b[1m375/375\u001b[0m \u001b[32m━━━━━━━━━━━━━━━━━━━━\u001b[0m\u001b[37m\u001b[0m \u001b[1m2s\u001b[0m 4ms/step\n",
            "Configuration: (1, 1024, 32) -> accuracy: 0.9591666666666666\n",
            "\u001b[1m375/375\u001b[0m \u001b[32m━━━━━━━━━━━━━━━━━━━━\u001b[0m\u001b[37m\u001b[0m \u001b[1m2s\u001b[0m 6ms/step\n",
            "Configuration: (1, 1024, 128) -> accuracy: 0.938\n",
            "\u001b[1m375/375\u001b[0m \u001b[32m━━━━━━━━━━━━━━━━━━━━\u001b[0m\u001b[37m\u001b[0m \u001b[1m1s\u001b[0m 3ms/step\n",
            "Configuration: (2, 256, 32) -> accuracy: 0.9488333333333333\n",
            "\u001b[1m375/375\u001b[0m \u001b[32m━━━━━━━━━━━━━━━━━━━━\u001b[0m\u001b[37m\u001b[0m \u001b[1m1s\u001b[0m 3ms/step\n",
            "Configuration: (2, 256, 128) -> accuracy: 0.9265833333333333\n",
            "\u001b[1m375/375\u001b[0m \u001b[32m━━━━━━━━━━━━━━━━━━━━\u001b[0m\u001b[37m\u001b[0m \u001b[1m2s\u001b[0m 6ms/step\n",
            "Configuration: (2, 1024, 32) -> accuracy: 0.9483333333333334\n",
            "\u001b[1m375/375\u001b[0m \u001b[32m━━━━━━━━━━━━━━━━━━━━\u001b[0m\u001b[37m\u001b[0m \u001b[1m2s\u001b[0m 6ms/step\n",
            "Configuration: (2, 1024, 128) -> accuracy: 0.9261666666666667\n",
            "Max accuracy: 0.96075 with configuration (1, 256, 32)\n"
          ]
        }
      ],
      "source": [
        "# Running the model selection\n",
        "# Selecting the configuration with the highest accuracy on the validation data\n",
        "\n",
        "max_accuracy = -1\n",
        "max_accuracy_model_config = None\n",
        "\n",
        "import warnings\n",
        "warnings.filterwarnings('ignore')\n",
        "\n",
        "for layers in n_layers:\n",
        "    for hidden_units in n_hidden_units:\n",
        "        for batch_size in batch_sizes:\n",
        "            model = defineModelAndTrain(layers, hidden_units, batch_size)\n",
        "\n",
        "            pred = model.predict(val_data)\n",
        "            acc = accuracy_score(val_lab, np.argmax(pred, axis=1))\n",
        "\n",
        "            print(f'Configuration: {(layers, hidden_units, batch_size)} -> accuracy: {acc}')\n",
        "\n",
        "            if acc > max_accuracy:\n",
        "                max_accuracy, max_accuracy_model_config = acc, (layers, hidden_units, batch_size)\n",
        "\n",
        "print(f'Max accuracy: {max_accuracy} with configuration {max_accuracy_model_config}')"
      ]
    },
    {
      "cell_type": "code",
      "execution_count": null,
      "metadata": {
        "colab": {
          "background_save": true
        },
        "id": "D6Di47aIh1vf",
        "outputId": "bed69238-9923-4eb7-9763-713f141b97d5"
      },
      "outputs": [
        {
          "name": "stdout",
          "output_type": "stream",
          "text": [
            "\u001b[1m375/375\u001b[0m \u001b[32m━━━━━━━━━━━━━━━━━━━━\u001b[0m\u001b[37m\u001b[0m \u001b[1m1s\u001b[0m 2ms/step\n",
            "Configuration: (n_layers, n_hidden_units, batch_size): (1, 256, 32) -> acc: 0.9586666666666667\n",
            "\u001b[1m375/375\u001b[0m \u001b[32m━━━━━━━━━━━━━━━━━━━━\u001b[0m\u001b[37m\u001b[0m \u001b[1m1s\u001b[0m 2ms/step\n",
            "Configuration: (n_layers, n_hidden_units, batch_size): (1, 256, 128) -> acc: 0.9370833333333334\n",
            "\u001b[1m375/375\u001b[0m \u001b[32m━━━━━━━━━━━━━━━━━━━━\u001b[0m\u001b[37m\u001b[0m \u001b[1m1s\u001b[0m 3ms/step\n",
            "Configuration: (n_layers, n_hidden_units, batch_size): (1, 1024, 32) -> acc: 0.95775\n",
            "\u001b[1m375/375\u001b[0m \u001b[32m━━━━━━━━━━━━━━━━━━━━\u001b[0m\u001b[37m\u001b[0m \u001b[1m1s\u001b[0m 3ms/step\n",
            "Configuration: (n_layers, n_hidden_units, batch_size): (1, 1024, 128) -> acc: 0.9404166666666667\n",
            "\u001b[1m375/375\u001b[0m \u001b[32m━━━━━━━━━━━━━━━━━━━━\u001b[0m\u001b[37m\u001b[0m \u001b[1m1s\u001b[0m 3ms/step\n",
            "Configuration: (n_layers, n_hidden_units, batch_size): (2, 256, 32) -> acc: 0.9495\n",
            "\u001b[1m375/375\u001b[0m \u001b[32m━━━━━━━━━━━━━━━━━━━━\u001b[0m\u001b[37m\u001b[0m \u001b[1m1s\u001b[0m 3ms/step\n",
            "Configuration: (n_layers, n_hidden_units, batch_size): (2, 256, 128) -> acc: 0.9265\n",
            "\u001b[1m375/375\u001b[0m \u001b[32m━━━━━━━━━━━━━━━━━━━━\u001b[0m\u001b[37m\u001b[0m \u001b[1m3s\u001b[0m 7ms/step\n",
            "Configuration: (n_layers, n_hidden_units, batch_size): (2, 1024, 32) -> acc: 0.9516666666666667\n",
            "\u001b[1m375/375\u001b[0m \u001b[32m━━━━━━━━━━━━━━━━━━━━\u001b[0m\u001b[37m\u001b[0m \u001b[1m2s\u001b[0m 6ms/step\n",
            "Configuration: (n_layers, n_hidden_units, batch_size): (2, 1024, 128) -> acc: 0.9255\n",
            "Max accuracy: 0.9586666666666667 with configuration (1, 256, 32)\n"
          ]
        }
      ],
      "source": [
        "# Alternatively, equivalent solution using itertools library\n",
        "from sklearn.metrics import accuracy_score\n",
        "import itertools\n",
        "\n",
        "max_accuracy = -1\n",
        "max_accuracy_model_config = None\n",
        "\n",
        "# Cartesian product of the 'sets' of candidate values of parameters\n",
        "candidate_configurations = itertools.product(n_layers, n_hidden_units, batch_sizes)\n",
        "# print(list(candidate_configurations))\n",
        "\n",
        "for config in candidate_configurations:\n",
        "\n",
        "    model = defineModelAndTrain(*config)\n",
        "\n",
        "    pred = model.predict(val_data)\n",
        "    acc = accuracy_score(val_lab, np.argmax(pred, axis=1))\n",
        "\n",
        "    print(f\"Configuration: (n_layers, n_hidden_units, batch_size): {config} -> acc: {acc}\")\n",
        "\n",
        "    if acc > max_accuracy:\n",
        "        max_accuracy, max_accuracy_model_config = acc, config\n",
        "\n",
        "print(f\"Max accuracy: {max_accuracy} with configuration {max_accuracy_model_config}\")\n"
      ]
    },
    {
      "cell_type": "markdown",
      "metadata": {
        "id": "AAJFHtKjnXtG"
      },
      "source": [
        "4. Merge again train and validation data to get a unique training set"
      ]
    },
    {
      "cell_type": "code",
      "execution_count": null,
      "metadata": {
        "colab": {
          "background_save": true
        },
        "id": "SRPgar8olXkC"
      },
      "outputs": [],
      "source": [
        "# Merging training and validation data\n",
        "\n",
        "X_train = np.concatenate([train_data, val_data])\n",
        "y_train = np.concatenate([train_lab, val_lab])"
      ]
    },
    {
      "cell_type": "markdown",
      "metadata": {
        "id": "ArBG_SQ3nihV"
      },
      "source": [
        "5. Train the final model with the chosen configuration and evaluate it on the test set"
      ]
    },
    {
      "cell_type": "code",
      "execution_count": null,
      "metadata": {
        "colab": {
          "background_save": true
        },
        "id": "QxmJ9Aq5ngwc",
        "outputId": "f4f116b3-2e85-4951-b91b-bf5308e2a418"
      },
      "outputs": [
        {
          "name": "stdout",
          "output_type": "stream",
          "text": [
            "\u001b[1m313/313\u001b[0m \u001b[32m━━━━━━━━━━━━━━━━━━━━\u001b[0m\u001b[37m\u001b[0m \u001b[1m1s\u001b[0m 4ms/step\n",
            "Accuracy: 0.9588\n"
          ]
        }
      ],
      "source": [
        "# training a final model with the best configuration\n",
        "# predicting the test data to compute the final estimate of model accuracy\n",
        "\n",
        "n_layers, n_hidden_units, batch_size = max_accuracy_model_config\n",
        "\n",
        "model = Sequential()\n",
        "model.add(Dense(256, input_shape=(28*28,), activation='sigmoid'))\n",
        "for _ in range(n_layers):\n",
        "    model.add(Dense(n_hidden_units, activation='sigmoid'))\n",
        "model.add(Dense(num_classes, activation='softmax'))\n",
        "\n",
        "model.compile(optimizer='SGD', loss='sparse_categorical_crossentropy', metrics=['accuracy'])\n",
        "model.fit(X_train, y_train, epochs=n_epochs, batch_size=batch_size, verbose=0)\n",
        "\n",
        "pred = model.predict(X_test)\n",
        "acc = accuracy_score(y_test, np.argmax(pred, axis=1))\n",
        "\n",
        "print(f'Accuracy: {acc}')"
      ]
    },
    {
      "cell_type": "markdown",
      "metadata": {
        "id": "KYdOK7X9q5R9"
      },
      "source": [
        "### Exploring the fit() cunction\n",
        "\n",
        "- We know redefine the fit content line by line\n",
        "- We define a custom model, subclass of t.keras.Model\n",
        "- Need to redefine the train_step() method"
      ]
    },
    {
      "cell_type": "code",
      "execution_count": null,
      "metadata": {
        "colab": {
          "background_save": true
        },
        "id": "omHKIGQYrIRl"
      },
      "outputs": [],
      "source": [
        "class CustomModel(tf.keras.Model):\n",
        "    def train_step(self, data):\n",
        "        # unpack the data. Its structure depends on your model and\n",
        "        # on what you pass to fit()\n",
        "        x, y = data\n",
        "        # GradientTape is necessary for automatic differentiation\n",
        "        # it is used to record ('tape') a sequence of operations\n",
        "        # performed upon some input and producing some output, so that the output can\n",
        "        # be differentiated with respect to the input\n",
        "        with tf.GradientTape() as tape:\n",
        "            y_pred = self(x, training=True) # forward pass\n",
        "            # compute the loss value\n",
        "            # the loss function is configured in compile()\n",
        "            loss = self.compiled_loss(y, y_pred, regularization_losses=self.losses)\n",
        "\n",
        "            # select parameter\n",
        "            trainable_vars = self.trainable_variables\n",
        "            # compute gradients w.r.t. parameters\n",
        "            gradients = tape.gradient(loss, trainable_vars)\n",
        "            # update weights\n",
        "            self.optimizer.apply_gradients(zip(gradients, trainable_vars))\n",
        "            # update metrics and store them in the object (includes the metric that tracks the loss)\n",
        "            self.compiled_metrics.update_state(y, y_pred)\n",
        "            # return a dict mapping metric names to current value\n",
        "            return {m.name: m.result() for m in self.metrics}"
      ]
    },
    {
      "cell_type": "markdown",
      "metadata": {
        "id": "BoHhA_AOJ8_c"
      },
      "source": [
        "- Now we redefine the model with class CustomModel\n",
        "  - We cannot use Sequential, we need to say which are the input and output layers\n",
        "  - We will use the Input layer of Keras"
      ]
    },
    {
      "cell_type": "code",
      "execution_count": null,
      "metadata": {
        "colab": {
          "background_save": true
        },
        "id": "1rMa2h5cKKqy",
        "outputId": "1e8db117-d84a-45f0-b78c-9dc90402d27c"
      },
      "outputs": [
        {
          "ename": "NameError",
          "evalue": "name 'tensorflow' is not defined",
          "output_type": "error",
          "traceback": [
            "\u001b[0;31m---------------------------------------------------------------------------\u001b[0m",
            "\u001b[0;31mNameError\u001b[0m                                 Traceback (most recent call last)",
            "\u001b[0;32m<ipython-input-24-6590981f9ce3>\u001b[0m in \u001b[0;36m<cell line: 11>\u001b[0;34m()\u001b[0m\n\u001b[1;32m      9\u001b[0m \u001b[0minput\u001b[0m \u001b[0;34m=\u001b[0m \u001b[0mtf\u001b[0m\u001b[0;34m.\u001b[0m\u001b[0mkeras\u001b[0m\u001b[0;34m.\u001b[0m\u001b[0mInput\u001b[0m\u001b[0;34m(\u001b[0m\u001b[0mshape\u001b[0m\u001b[0;34m=\u001b[0m\u001b[0;34m(\u001b[0m\u001b[0;36m28\u001b[0m\u001b[0;34m*\u001b[0m\u001b[0;36m28\u001b[0m\u001b[0;34m,\u001b[0m\u001b[0;34m)\u001b[0m\u001b[0;34m)\u001b[0m\u001b[0;34m\u001b[0m\u001b[0;34m\u001b[0m\u001b[0m\n\u001b[1;32m     10\u001b[0m \u001b[0mhid\u001b[0m \u001b[0;34m=\u001b[0m \u001b[0mtf\u001b[0m\u001b[0;34m.\u001b[0m\u001b[0mkeras\u001b[0m\u001b[0;34m.\u001b[0m\u001b[0mlayers\u001b[0m\u001b[0;34m.\u001b[0m\u001b[0mDense\u001b[0m\u001b[0;34m(\u001b[0m\u001b[0;36m256\u001b[0m\u001b[0;34m,\u001b[0m \u001b[0mactivation\u001b[0m\u001b[0;34m=\u001b[0m\u001b[0;34m'sigmoid'\u001b[0m\u001b[0;34m)\u001b[0m\u001b[0;34m(\u001b[0m\u001b[0minput\u001b[0m\u001b[0;34m)\u001b[0m\u001b[0;34m\u001b[0m\u001b[0;34m\u001b[0m\u001b[0m\n\u001b[0;32m---> 11\u001b[0;31m \u001b[0mhid\u001b[0m \u001b[0;34m=\u001b[0m \u001b[0mtensorflow\u001b[0m\u001b[0;34m.\u001b[0m\u001b[0mkeras\u001b[0m\u001b[0;34m.\u001b[0m\u001b[0mlayers\u001b[0m\u001b[0;34m.\u001b[0m\u001b[0mDense\u001b[0m\u001b[0;34m(\u001b[0m\u001b[0;36m128\u001b[0m\u001b[0;34m,\u001b[0m \u001b[0mactivation\u001b[0m\u001b[0;34m=\u001b[0m\u001b[0;34m'sigmoid'\u001b[0m\u001b[0;34m)\u001b[0m\u001b[0;34m(\u001b[0m\u001b[0mhid\u001b[0m\u001b[0;34m)\u001b[0m\u001b[0;34m\u001b[0m\u001b[0;34m\u001b[0m\u001b[0m\n\u001b[0m\u001b[1;32m     12\u001b[0m \u001b[0moutput\u001b[0m \u001b[0;34m=\u001b[0m \u001b[0mtf\u001b[0m\u001b[0;34m.\u001b[0m\u001b[0mkeras\u001b[0m\u001b[0;34m.\u001b[0m\u001b[0mlayers\u001b[0m\u001b[0;34m.\u001b[0m\u001b[0mDense\u001b[0m\u001b[0;34m(\u001b[0m\u001b[0mnum_classes\u001b[0m\u001b[0;34m,\u001b[0m \u001b[0mactivation\u001b[0m\u001b[0;34m=\u001b[0m\u001b[0;34m'sigmoid'\u001b[0m\u001b[0;34m)\u001b[0m\u001b[0;34m(\u001b[0m\u001b[0mhid\u001b[0m\u001b[0;34m)\u001b[0m\u001b[0;34m\u001b[0m\u001b[0;34m\u001b[0m\u001b[0m\n\u001b[1;32m     13\u001b[0m \u001b[0;34m\u001b[0m\u001b[0m\n",
            "\u001b[0;31mNameError\u001b[0m: name 'tensorflow' is not defined"
          ]
        }
      ],
      "source": [
        "np.random.seed(42)\n",
        "tf.random.set_seed(42)\n",
        "\n",
        "#model = Sequential()\n",
        "#model.add(Dense(256, input_shape=(28*28,), activation='sigmoid'))\n",
        "#model.add(Dense(128, activation='sigmoid'))\n",
        "#model.add(Dense(num_classes, activation='softmax'))\n",
        "\n",
        "input = tf.keras.Input(shape=(28*28,))\n",
        "hid = tf.keras.layers.Dense(256, activation='sigmoid')(input)\n",
        "hid = tensorflow.keras.layers.Dense(128, activation='sigmoid')(hid)\n",
        "output = tf.keras.layers.Dense(num_classes, activation='sigmoid')(hid)\n",
        "\n",
        "model = CustomModel(input, output)\n",
        "\n",
        "model.compile(optimizer='SGD', loss='sparse_categorical_crossentropy', metrics=['accuracy'])\n",
        "\n",
        "batsh_size = 64\n",
        "epochs = 30\n",
        "model.fit(X_train, y_train, epochs=epochs, validation_split=0.2)"
      ]
    },
    {
      "cell_type": "code",
      "execution_count": null,
      "metadata": {
        "colab": {
          "background_save": true
        },
        "id": "xHMM6lJ_LG-H"
      },
      "outputs": [],
      "source": [
        "pred = model.predict(X_test)\n",
        "cat_pred = np.argmax(pred, axis=1)\n",
        "print(accuracy_score(y_test, cat_pred))"
      ]
    }
  ],
  "metadata": {
    "accelerator": "GPU",
    "colab": {
      "gpuType": "T4",
      "provenance": [],
      "authorship_tag": "ABX9TyPxnFG9020REhPFyGY2UDwj"
    },
    "kernelspec": {
      "display_name": "Python 3",
      "name": "python3"
    },
    "language_info": {
      "name": "python"
    }
  },
  "nbformat": 4,
  "nbformat_minor": 0
}